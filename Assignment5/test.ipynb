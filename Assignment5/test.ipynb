{
 "cells": [
  {
   "cell_type": "code",
   "execution_count": 11,
   "metadata": {
    "collapsed": false
   },
   "outputs": [],
   "source": [
    "import bs4\n",
    "from selenium import webdriver\n",
    "from selenium.webdriver.common.action_chains import ActionChains\n",
    "from selenium.webdriver.common.keys import Keys\n",
    "import time\n",
    "from unidecode import unidecode\n",
    "import pandas as pd\n",
    "import datetime\n",
    "from dateutil.parser import parse\n",
    "from sklearn.cluster import DBSCAN\n",
    "from sklearn.preprocessing import StandardScaler\n",
    "import numpy as np\n",
    "import matplotlib.pyplot as plt\n",
    "%matplotlib inline"
   ]
  },
  {
   "cell_type": "code",
   "execution_count": 18,
   "metadata": {
    "collapsed": true
   },
   "outputs": [],
   "source": [
    "def scrape_data(start_date, from_place, to_place, city_name):\n",
    "\n",
    "    driver = webdriver.Chrome()\n",
    "    driver.get('https://www.google.com/flights/explore/')\n",
    "    time.sleep(1.5)\n",
    "    #input to_place\n",
    "    to_input = driver.find_element_by_xpath('//*[@id=\"root\"]/div[3]/div[3]/div/div[4]/div/div')\n",
    "    to_input.click()\n",
    "    actions = ActionChains(driver)\n",
    "    actions.send_keys(to_place)\n",
    "    actions.send_keys(Keys.ENTER)\n",
    "    actions.perform()\n",
    "    time.sleep(0.5)\n",
    "    #input from_place\n",
    "    to_input = driver.find_element_by_xpath('//*[@id=\"root\"]/div[3]/div[3]/div/div[2]/div/div')\n",
    "    to_input.click()\n",
    "    actions = ActionChains(driver)\n",
    "    actions.send_keys(from_place)\n",
    "    actions.send_keys(Keys.ENTER)\n",
    "    actions.perform()\n",
    "    time.sleep(0.5)\n",
    "    #input start_date\n",
    "    driver.get(driver.current_url[:-10]+start_date)\n",
    "    time.sleep(0.5)\n",
    "    #find the city_name\n",
    "    data = []\n",
    "    city_name0=unicode(city_name,'utf-8')\n",
    "    city_name_unicode=unidecode(city_name0)\n",
    "    city_name1=city_name_unicode.lower().split(' ')\n",
    "    city_name2=''\n",
    "    for i in range(len(city_name1)):\n",
    "        city_name2=city_name2+city_name1[i][0].upper()+city_name1[i][1:]+' '\n",
    "    city_name2=city_name2.strip()\n",
    "    results = driver.find_elements_by_class_name('LJTSM3-v-d')\n",
    "    for result in results:\n",
    "        if city_name2 in result.text:\n",
    "            bars = result.find_elements_by_class_name('LJTSM3-w-x')\n",
    "\n",
    "            for bar in bars:\n",
    "                ActionChains(driver).move_to_element(bar).perform()\n",
    "                time.sleep(0.0001)\n",
    "                data.append((result.find_element_by_class_name('LJTSM3-w-k').find_elements_by_tag_name('div')[0].text,\n",
    "                             result.find_element_by_class_name('LJTSM3-w-k').find_elements_by_tag_name('div')[1].text))\n",
    "        else:\n",
    "            pass\n",
    "    time.sleep(0.01)\n",
    "    driver.quit()\n",
    "    return data"
   ]
  },
  {
   "cell_type": "code",
   "execution_count": 20,
   "metadata": {
    "collapsed": false
   },
   "outputs": [
    {
     "data": {
      "text/plain": [
       "60"
      ]
     },
     "execution_count": 20,
     "metadata": {},
     "output_type": "execute_result"
    }
   ],
   "source": [
    "flight_data=scrape_data('2017-04-30','Chicago','America','boston')\n",
    "len(flight_data)"
   ]
  },
  {
   "cell_type": "code",
   "execution_count": 2,
   "metadata": {
    "collapsed": false,
    "scrolled": true
   },
   "outputs": [],
   "source": [
    "def scrape_data(start_date, from_place, to_place, city_name):\n",
    "\n",
    "    driver = webdriver.Chrome()\n",
    "    driver.get('https://www.google.com/flights/explore/')\n",
    "    time.sleep(1.5)\n",
    "    #driver.get('https://www.google.com/flights/explore/')\n",
    "    #input to_place\n",
    "    to_input = driver.find_element_by_xpath('//*[@id=\"root\"]/div[3]/div[3]/div/div[4]/div/div')\n",
    "    to_input.click()\n",
    "    actions = ActionChains(driver)\n",
    "    actions.send_keys(to_place)\n",
    "    actions.send_keys(Keys.ENTER)\n",
    "    actions.perform()\n",
    "    time.sleep(0.5)\n",
    "    #input from_place\n",
    "    to_input = driver.find_element_by_xpath('//*[@id=\"root\"]/div[3]/div[3]/div/div[2]/div/div')\n",
    "    to_input.click()\n",
    "    actions = ActionChains(driver)\n",
    "    actions.send_keys(from_place)\n",
    "    actions.send_keys(Keys.ENTER)\n",
    "    actions.perform()\n",
    "    time.sleep(0.5)\n",
    "    #input start_date\n",
    "    driver.get(driver.current_url[:-10]+start_date)\n",
    "    time.sleep(0.5)\n",
    "    #find the city_name\n",
    "    data = []\n",
    "    city_name0=unicode(city_name,'utf-8')\n",
    "    city_name_unicode=unidecode(city_name0)\n",
    "    city_name1=city_name_unicode.lower().split(' ')\n",
    "    city_name2=''\n",
    "    for i in range(len(city_name1)):\n",
    "        city_name2=city_name2+city_name1[i][0].upper()+city_name1[i][1:]+' '\n",
    "    city_name2=city_name2.strip()\n",
    "    results = driver.find_elements_by_class_name('LJTSM3-v-d')\n",
    "    for result in results:\n",
    "        if city_name2 in result.text:\n",
    "            bars = result.find_elements_by_class_name('LJTSM3-w-x')\n",
    "\n",
    "            for bar in bars:\n",
    "                ActionChains(driver).move_to_element(bar).perform()\n",
    "                time.sleep(0.0001)\n",
    "                data.append((result.find_element_by_class_name('LJTSM3-w-k').find_elements_by_tag_name('div')[0].text,\n",
    "                             result.find_element_by_class_name('LJTSM3-w-k').find_elements_by_tag_name('div')[1].text))\n",
    "        else:\n",
    "            pass\n",
    "    time.sleep(0.5)\n",
    "    to_input = driver.find_element_by_xpath('//*[@id=\"root\"]/div[3]/div[4]/div/div[2]/div[1]/div/div[2]/div[2]/div/div[2]/div[5]/div')\n",
    "    to_input.click()\n",
    "    time.sleep(0.5)\n",
    "    results = driver.find_elements_by_class_name('LJTSM3-v-d')\n",
    "    for result in results:\n",
    "        if city_name2 in result.text:\n",
    "            bars = result.find_elements_by_class_name('LJTSM3-w-x')\n",
    "\n",
    "            for bar in bars:\n",
    "                ActionChains(driver).move_to_element(bar).perform()\n",
    "                time.sleep(0.0001)\n",
    "                data.append((result.find_element_by_class_name('LJTSM3-w-k').find_elements_by_tag_name('div')[0].text,\n",
    "                             result.find_element_by_class_name('LJTSM3-w-k').find_elements_by_tag_name('div')[1].text))\n",
    "        else:\n",
    "            pass\n",
    "\n",
    "    data=data[:60]+data[-30:]\n",
    "    driver.quit()\n",
    "    return data"
   ]
  },
  {
   "cell_type": "code",
   "execution_count": 3,
   "metadata": {
    "collapsed": false,
    "scrolled": true
   },
   "outputs": [
    {
     "data": {
      "text/plain": [
       "[(u'$256', u'Sun Apr 30 - Wed May 3'),\n",
       " (u'$194', u'Mon May 1 - Thu May 4'),\n",
       " (u'$133', u'Tue May 2 - Sat May 6'),\n",
       " (u'$113', u'Wed May 3 - Sat May 6'),\n",
       " (u'$158', u'Thu May 4 - Tue May 9'),\n",
       " (u'$148', u'Fri May 5 - Tue May 9'),\n",
       " (u'$113', u'Sat May 6 - Tue May 9'),\n",
       " (u'$211', u'Sun May 7 - Wed May 10'),\n",
       " (u'$178', u'Mon May 8 - Thu May 11'),\n",
       " (u'$113', u'Tue May 9 - Sat May 13'),\n",
       " (u'$113', u'Wed May 10 - Sat May 13'),\n",
       " (u'$178', u'Thu May 11 - Tue May 16'),\n",
       " (u'$196', u'Fri May 12 - Tue May 16'),\n",
       " (u'$113', u'Sat May 13 - Wed May 17'),\n",
       " (u'$196', u'Sun May 14 - Wed May 17'),\n",
       " (u'$194', u'Mon May 15 - Thu May 18'),\n",
       " (u'$113', u'Tue May 16 - Sat May 20'),\n",
       " (u'$113', u'Wed May 17 - Sat May 20'),\n",
       " (u'$230', u'Thu May 18 - Tue May 23'),\n",
       " (u'$216', u'Fri May 19 - Tue May 23'),\n",
       " (u'$113', u'Sat May 20 - Wed May 24'),\n",
       " (u'$231', u'Sun May 21 - Wed May 24'),\n",
       " (u'$250', u'Mon May 22 - Sat May 27'),\n",
       " (u'$133', u'Tue May 23 - Sat May 27'),\n",
       " (u'$153', u'Wed May 24 - Sat May 27'),\n",
       " (u'$250', u'Thu May 25 - Tue May 30'),\n",
       " (u'$250', u'Fri May 26 - Wed May 31'),\n",
       " (u'$153', u'Sat May 27 - Tue May 30'),\n",
       " (u'$216', u'Sun May 28 - Wed May 31'),\n",
       " (u'$250', u'Mon May 29 - Sat Jun 3'),\n",
       " (u'$178', u'Tue May 30 - Sat Jun 3'),\n",
       " (u'$153', u'Wed May 31 - Sat Jun 3'),\n",
       " (u'$194', u'Thu Jun 1 - Tue Jun 6'),\n",
       " (u'$196', u'Fri Jun 2 - Wed Jun 7'),\n",
       " (u'$153', u'Sat Jun 3 - Tue Jun 6'),\n",
       " (u'$245', u'Sun Jun 4 - Wed Jun 7'),\n",
       " (u'$194', u'Mon Jun 5 - Thu Jun 8'),\n",
       " (u'$153', u'Tue Jun 6 - Sat Jun 10'),\n",
       " (u'$153', u'Wed Jun 7 - Sat Jun 10'),\n",
       " (u'$216', u'Thu Jun 8 - Tue Jun 13'),\n",
       " (u'$216', u'Fri Jun 9 - Tue Jun 13'),\n",
       " (u'$153', u'Sat Jun 10 - Thu Jun 15'),\n",
       " (u'$231', u'Sun Jun 11 - Thu Jun 15'),\n",
       " (u'$216', u'Mon Jun 12 - Sat Jun 17'),\n",
       " (u'$153', u'Tue Jun 13 - Sat Jun 17'),\n",
       " (u'$153', u'Wed Jun 14 - Sat Jun 17'),\n",
       " (u'$153', u'Thu Jun 15 - Tue Jun 20'),\n",
       " (u'$178', u'Fri Jun 16 - Tue Jun 20'),\n",
       " (u'$153', u'Sat Jun 17 - Wed Jun 21'),\n",
       " (u'$250', u'Sun Jun 18 - Wed Jun 21'),\n",
       " (u'$178', u'Mon Jun 19 - Sat Jun 24'),\n",
       " (u'$153', u'Tue Jun 20 - Sat Jun 24'),\n",
       " (u'$153', u'Wed Jun 21 - Sat Jun 24'),\n",
       " (u'$178', u'Thu Jun 22 - Tue Jun 27'),\n",
       " (u'$178', u'Fri Jun 23 - Wed Jun 28'),\n",
       " (u'$153', u'Sat Jun 24 - Tue Jun 27'),\n",
       " (u'$250', u'Sun Jun 25 - Wed Jun 28'),\n",
       " (u'$178', u'Mon Jun 26 - Sat Jul 1'),\n",
       " (u'$153', u'Tue Jun 27 - Sat Jul 1'),\n",
       " (u'$153', u'Wed Jun 28 - Sat Jul 1'),\n",
       " (u'$178', u'Thu Jun 29 - Mon Jul 3'),\n",
       " (u'$216', u'Fri Jun 30 - Tue Jul 4'),\n",
       " (u'$178', u'Sat Jul 1 - Tue Jul 4'),\n",
       " (u'$241', u'Sun Jul 2 - Thu Jul 6'),\n",
       " (u'$178', u'Mon Jul 3 - Sat Jul 8'),\n",
       " (u'$178', u'Tue Jul 4 - Sat Jul 8'),\n",
       " (u'$178', u'Wed Jul 5 - Mon Jul 10'),\n",
       " (u'$178', u'Thu Jul 6 - Mon Jul 10'),\n",
       " (u'$153', u'Fri Jul 7 - Wed Jul 12'),\n",
       " (u'$153', u'Sat Jul 8 - Tue Jul 11'),\n",
       " (u'$216', u'Sun Jul 9 - Wed Jul 12'),\n",
       " (u'$153', u'Mon Jul 10 - Sat Jul 15'),\n",
       " (u'$153', u'Tue Jul 11 - Sat Jul 15'),\n",
       " (u'$153', u'Wed Jul 12 - Sat Jul 15'),\n",
       " (u'$153', u'Thu Jul 13 - Tue Jul 18'),\n",
       " (u'$153', u'Fri Jul 14 - Wed Jul 19'),\n",
       " (u'$153', u'Sat Jul 15 - Wed Jul 19'),\n",
       " (u'$216', u'Sun Jul 16 - Thu Jul 20'),\n",
       " (u'$153', u'Mon Jul 17 - Fri Jul 21'),\n",
       " (u'$153', u'Tue Jul 18 - Sat Jul 22'),\n",
       " (u'$153', u'Wed Jul 19 - Mon Jul 24'),\n",
       " (u'$153', u'Thu Jul 20 - Tue Jul 25'),\n",
       " (u'$153', u'Fri Jul 21 - Wed Jul 26'),\n",
       " (u'$153', u'Sat Jul 22 - Tue Jul 25'),\n",
       " (u'$216', u'Sun Jul 23 - Thu Jul 27'),\n",
       " (u'$153', u'Mon Jul 24 - Thu Jul 27'),\n",
       " (u'$153', u'Tue Jul 25 - Fri Jul 28'),\n",
       " (u'$153', u'Wed Jul 26 - Mon Jul 31'),\n",
       " (u'$153', u'Thu Jul 27 - Tue Aug 1'),\n",
       " (u'$153', u'Fri Jul 28 - Tue Aug 1')]"
      ]
     },
     "execution_count": 3,
     "metadata": {},
     "output_type": "execute_result"
    }
   ],
   "source": [
    "flight_data=scrape_data('2017-04-30','Chicago','America','boston')\n",
    "flight_data"
   ]
  },
  {
   "cell_type": "code",
   "execution_count": 12,
   "metadata": {
    "collapsed": true
   },
   "outputs": [],
   "source": [
    "def task_3_dbscan(flight_data):\n",
    "    clean_data = [(float(d[0].replace('$', '').replace(',', '')), \n",
    "               (parse(d[1].split('-')[0].strip()) - parse(flight_data[0][1].split('-')[0].strip())).days, \n",
    "               reduce(lambda x,y: y-x, [parse(x.strip()) for x in d[1].split('-')]).days) for d in flight_data]\n",
    "    df = pd.DataFrame(clean_data, columns=['Price', 'Start_Date', 'Trip_Length'])\n",
    "\n",
    "    X = StandardScaler().fit_transform(df[['Start_Date', 'Price']])\n",
    "    db = DBSCAN(eps=.5, min_samples=3).fit(X)\n",
    "\n",
    "    labels = db.labels_\n",
    "    clusters = len(set(labels))\n",
    "    unique_labels = set(labels)\n",
    "    colors = plt.cm.Spectral(np.linspace(0, 1, len(unique_labels)))\n",
    "\n",
    "    plt.subplots(figsize=(12,8))\n",
    "\n",
    "    for k, c in zip(unique_labels, colors):\n",
    "        class_member_mask = (labels == k)\n",
    "        xy = X[class_member_mask]\n",
    "        plt.plot(xy[:, 0], xy[:, 1], 'o', markerfacecolor=c,\n",
    "                markeredgecolor='k', markersize=14)\n",
    "    \n",
    "    plt.title(\"Total Clusters: {}\".format(clusters), fontsize=14, y=1.01)\n",
    "    df['dbscan_labels'] = db.labels_\n",
    "    plt.savefig('task_3_dbscan.png')\n",
    "    outliers=df[df['dbscan_labels']==-1].copy()\n",
    "    outliers_1=zip(outliers.Start_Date,outliers.Price)\n",
    "    clusters=df[df['dbscan_labels']!=-1].copy()\n",
    "    clusters_1=zip(clusters.Start_Date,clusters.Price,clusters.dbscan_labels)\n",
    "    outliers_label=[]\n",
    "    for outlier in outliers_1:\n",
    "        min_cluster_label = -1\n",
    "        min_dist = 9999\n",
    "        for cluster in clusters_1:\n",
    "            dist=(float(outlier[0])-float(cluster[0]))**2+((float(outlier[1])-float(cluster[1]))/100)**2\n",
    "            # I think the weight of date in distance is more important than weight of price. Therefore, I did not use Euclidean distance.\n",
    "            if dist < min_dist:\n",
    "                min_dist = dist\n",
    "                min_cluster_label = cluster[2]\n",
    "        outliers_label.append(min_cluster_label)\n",
    "    outliers_2=zip(outliers.Start_Date,outliers.Price,outliers_label)\n",
    "    agg = df[df['dbscan_labels']!=-1].groupby('dbscan_labels')['Start_Date','Price'].agg(['std','mean','count']).copy()\n",
    "    outliers_3=[]\n",
    "    for outlier in outliers_2:\n",
    "        mean=agg[agg.index==outlier[2]]['Price']['mean']\n",
    "        std=max(float(agg[agg.index==outlier[2]]['Price']['std']),10)\n",
    "        line=max(float(mean-2*std),50)\n",
    "        if outlier[1]<line:\n",
    "            outliers_3.append(outlier[0])\n",
    "    if len(outliers_3)==0:\n",
    "        return 'There is no low price outlier.'\n",
    "    else:\n",
    "        return df.loc[outliers_3]"
   ]
  },
  {
   "cell_type": "code",
   "execution_count": 13,
   "metadata": {
    "collapsed": false,
    "scrolled": false
   },
   "outputs": [
    {
     "data": {
      "text/plain": [
       "'There is no low price outlier.'"
      ]
     },
     "execution_count": 13,
     "metadata": {},
     "output_type": "execute_result"
    },
    {
     "data": {
      "image/png": "[encoded data removed]",
      "text/plain": [
       "<matplotlib.figure.Figure at 0x7eff151a15d0>"
      ]
     },
     "metadata": {},
     "output_type": "display_data"
    }
   ],
   "source": [
    "task_3_dbscan(flight_data)"
   ]
  },
  {
   "cell_type": "code",
   "execution_count": 14,
   "metadata": {
    "collapsed": false
   },
   "outputs": [],
   "source": [
    "def task_3_IQR(flight_data):\n",
    "    clean_data = [(float(d[0].replace('$', '').replace(',', '')), \n",
    "               (parse(d[1].split('-')[0].strip()) - parse(flight_data[0][1].split('-')[0].strip())).days, \n",
    "               reduce(lambda x,y: y-x, [parse(x.strip()) for x in d[1].split('-')]).days) for d in flight_data]\n",
    "    df = pd.DataFrame(clean_data, columns=['Price', 'Start_Date', 'Trip_Length'])\n",
    "    plt.boxplot(df['Price']);\n",
    "    plt.savefig('task_3_iqr.png')\n",
    "    Q1 = df.Price.describe()['25%']\n",
    "    Q3 = df.Price.describe()['75%']\n",
    "    IQR = Q3 - Q1\n",
    "    low_line = Q1 - 1.5 * IQR\n",
    "    result = df[df['Price'] < low_line]\n",
    "    if len(result) == 0:\n",
    "        return 'No outliers'\n",
    "    else:\n",
    "        return result"
   ]
  },
  {
   "cell_type": "code",
   "execution_count": 15,
   "metadata": {
    "collapsed": false
   },
   "outputs": [
    {
     "data": {
      "text/plain": [
       "'No outliers'"
      ]
     },
     "execution_count": 15,
     "metadata": {},
     "output_type": "execute_result"
    },
    {
     "data": {
      "image/png": "[encoded data removed]",
      "text/plain": [
       "<matplotlib.figure.Figure at 0x7eff18cd4890>"
      ]
     },
     "metadata": {},
     "output_type": "display_data"
    }
   ],
   "source": [
    "task_3_IQR(flight_data)"
   ]
  },
  {
   "cell_type": "code",
   "execution_count": 16,
   "metadata": {
    "collapsed": true
   },
   "outputs": [],
   "source": [
    "def task_4_dbscan(flight_data):\n",
    "    clean_data = [(float(d[0].replace('$', '').replace(',', '')), \n",
    "               (parse(d[1].split('-')[0].strip()) - parse(flight_data[0][1].split('-')[0].strip())).days, \n",
    "               reduce(lambda x,y: y-x, [parse(x.strip()) for x in d[1].split('-')]).days) for d in flight_data]\n",
    "    df = pd.DataFrame(clean_data, columns=['Price', 'Start_Date', 'Trip_Length'])    \n",
    "    X = df[['Start_Date', 'Price']].values*np.array([20,1])\n",
    "    radius = np.sqrt(np.square(20.00) + np.square(20.00))\n",
    "    db = DBSCAN(eps=radius, min_samples=3).fit(X)\n",
    "\n",
    "    df['dbscan_labels'] = db.labels_\n",
    "    \n",
    "    clusters=df.dbscan_labels.unique()\n",
    "    clusters_5=[]\n",
    "    for cluster in clusters:\n",
    "        if cluster!=-1 and len(df[df['dbscan_labels']==cluster])>4:\n",
    "            for i in range(len(df[df['dbscan_labels']==cluster])-4):\n",
    "                clusters_5.append(df[df['dbscan_labels']==cluster]['Start_Date'].values[i:i+5])\n",
    "    mean_min=9999\n",
    "    cluster_mean_min=[]\n",
    "    for cluster_5 in clusters_5:\n",
    "        df_5=df.loc[cluster_5][['Start_Date','Price']]\n",
    "        cluster_max=df_5['Price'].max()\n",
    "        cluster_min=df_5['Price'].min()\n",
    "        cluster_mean=df_5['Price'].mean()\n",
    "        if cluster_max-cluster_min<=20 and cluster_mean < mean_min:\n",
    "            mean_min=cluster_mean\n",
    "            cluster_mean_min=cluster_5\n",
    "        else:\n",
    "            pass\n",
    "    if len(cluster_mean_min)==0:\n",
    "        return 'No required value'\n",
    "    else:\n",
    "        return df.loc[cluster_mean_min]"
   ]
  },
  {
   "cell_type": "code",
   "execution_count": 17,
   "metadata": {
    "collapsed": false
   },
   "outputs": [
    {
     "data": {
      "text/html": [
       "<div>\n",
       "<table border=\"1\" class=\"dataframe\">\n",
       "  <thead>\n",
       "    <tr style=\"text-align: right;\">\n",
       "      <th></th>\n",
       "      <th>Price</th>\n",
       "      <th>Start_Date</th>\n",
       "      <th>Trip_Length</th>\n",
       "      <th>dbscan_labels</th>\n",
       "    </tr>\n",
       "  </thead>\n",
       "  <tbody>\n",
       "    <tr>\n",
       "      <th>71</th>\n",
       "      <td>153.0</td>\n",
       "      <td>71</td>\n",
       "      <td>5</td>\n",
       "      <td>2</td>\n",
       "    </tr>\n",
       "    <tr>\n",
       "      <th>72</th>\n",
       "      <td>153.0</td>\n",
       "      <td>72</td>\n",
       "      <td>4</td>\n",
       "      <td>2</td>\n",
       "    </tr>\n",
       "    <tr>\n",
       "      <th>73</th>\n",
       "      <td>153.0</td>\n",
       "      <td>73</td>\n",
       "      <td>3</td>\n",
       "      <td>2</td>\n",
       "    </tr>\n",
       "    <tr>\n",
       "      <th>74</th>\n",
       "      <td>153.0</td>\n",
       "      <td>74</td>\n",
       "      <td>5</td>\n",
       "      <td>2</td>\n",
       "    </tr>\n",
       "    <tr>\n",
       "      <th>75</th>\n",
       "      <td>153.0</td>\n",
       "      <td>75</td>\n",
       "      <td>5</td>\n",
       "      <td>2</td>\n",
       "    </tr>\n",
       "  </tbody>\n",
       "</table>\n",
       "</div>"
      ],
      "text/plain": [
       "    Price  Start_Date  Trip_Length  dbscan_labels\n",
       "71  153.0          71            5              2\n",
       "72  153.0          72            4              2\n",
       "73  153.0          73            3              2\n",
       "74  153.0          74            5              2\n",
       "75  153.0          75            5              2"
      ]
     },
     "execution_count": 17,
     "metadata": {},
     "output_type": "execute_result"
    }
   ],
   "source": [
    "task_4_dbscan(flight_data)"
   ]
  },
  {
   "cell_type": "code",
   "execution_count": 721,
   "metadata": {
    "collapsed": true
   },
   "outputs": [],
   "source": [
    "    clean_data = [(float(d[0].replace('$', '').replace(',', '')), \n",
    "               (parse(d[1].split('-')[0].strip()) - parse(flight_data[0][1].split('-')[0].strip())).days, \n",
    "               reduce(lambda x,y: y-x, [parse(x.strip()) for x in d[1].split('-')]).days) for d in flight_data]\n",
    "    df = pd.DataFrame(clean_data, columns=['Price', 'Start_Date', 'Trip_Length'])    \n",
    "    X = df[['Start_Date', 'Price']].values*np.array([20,1])\n",
    "    radius = np.sqrt(np.square(20.00) + np.square(20.00))\n",
    "    db = DBSCAN(eps=radius, min_samples=3).fit(X)\n",
    "\n",
    "    df['dbscan_labels'] = db.labels_"
   ]
  },
  {
   "cell_type": "code",
   "execution_count": 725,
   "metadata": {
    "collapsed": false
   },
   "outputs": [
    {
     "data": {
      "text/plain": [
       "array([-1,  0,  1,  2,  3,  4])"
      ]
     },
     "execution_count": 725,
     "metadata": {},
     "output_type": "execute_result"
    }
   ],
   "source": [
    "    clusters=df.dbscan_labels.unique()\n",
    "    clusters"
   ]
  },
  {
   "cell_type": "code",
   "execution_count": 722,
   "metadata": {
    "collapsed": true
   },
   "outputs": [],
   "source": [
    "\n",
    "    clusters_5=[]\n",
    "    for cluster in clusters:\n",
    "        if cluster!=-1:\n",
    "            if len(df[df['dbscan_labels']==cluster])>4:\n",
    "                clusters_5.append(cluster)\n",
    "        else:\n",
    "            pass\n",
    "\n"
   ]
  },
  {
   "cell_type": "code",
   "execution_count": 727,
   "metadata": {
    "collapsed": false
   },
   "outputs": [
    {
     "data": {
      "text/plain": [
       "[2, 3, 4]"
      ]
     },
     "execution_count": 727,
     "metadata": {},
     "output_type": "execute_result"
    }
   ],
   "source": [
    "clusters_5"
   ]
  },
  {
   "cell_type": "code",
   "execution_count": null,
   "metadata": {
    "collapsed": true
   },
   "outputs": [],
   "source": [
    "    mean_min=9999\n",
    "    cluster_mean_min=[]\n",
    "    for cluster_5 in clusters_5:\n",
    "        df_5=df.loc[cluster_5][['Start_Date','Price']]\n",
    "        cluster_max=df_5['Price'].max()\n",
    "        cluster_min=df_5['Price'].min()\n",
    "        cluster_mean=df_5['Price'].mean()\n",
    "\n",
    "        if cluster_max-cluster_min<=20 and cluster_mean < mean_min:\n",
    "            mean_min=cluster_mean\n",
    "            cluster_mean_min=cluster_5\n",
    "        else:\n",
    "            pass"
   ]
  },
  {
   "cell_type": "code",
   "execution_count": 728,
   "metadata": {
    "collapsed": false
   },
   "outputs": [
    {
     "data": {
      "text/plain": [
       "3"
      ]
     },
     "execution_count": 728,
     "metadata": {},
     "output_type": "execute_result"
    }
   ],
   "source": [
    "cluster_mean_min"
   ]
  },
  {
   "cell_type": "code",
   "execution_count": 525,
   "metadata": {
    "collapsed": false,
    "scrolled": true
   },
   "outputs": [
    {
     "data": {
      "text/plain": [
       "[(256.0, 0, 3),\n",
       " (194.0, 1, 3),\n",
       " (133.0, 2, 4),\n",
       " (113.0, 3, 3),\n",
       " (158.0, 4, 5),\n",
       " (148.0, 5, 4),\n",
       " (113.0, 6, 3),\n",
       " (211.0, 7, 3),\n",
       " (178.0, 8, 3),\n",
       " (113.0, 9, 4),\n",
       " (113.0, 10, 3),\n",
       " (178.0, 11, 5),\n",
       " (196.0, 12, 4),\n",
       " (113.0, 13, 4),\n",
       " (196.0, 14, 3),\n",
       " (194.0, 15, 3),\n",
       " (113.0, 16, 4),\n",
       " (113.0, 17, 3),\n",
       " (230.0, 18, 5),\n",
       " (216.0, 19, 4),\n",
       " (113.0, 20, 4),\n",
       " (231.0, 21, 3),\n",
       " (250.0, 22, 5),\n",
       " (133.0, 23, 4),\n",
       " (153.0, 24, 3),\n",
       " (250.0, 25, 5),\n",
       " (250.0, 26, 5),\n",
       " (153.0, 27, 3),\n",
       " (216.0, 28, 3),\n",
       " (250.0, 29, 5),\n",
       " (178.0, 30, 4),\n",
       " (153.0, 31, 3),\n",
       " (194.0, 32, 5),\n",
       " (196.0, 33, 5),\n",
       " (153.0, 34, 3),\n",
       " (245.0, 35, 3),\n",
       " (194.0, 36, 3),\n",
       " (153.0, 37, 4),\n",
       " (153.0, 38, 3),\n",
       " (216.0, 39, 5),\n",
       " (216.0, 40, 4),\n",
       " (153.0, 41, 5),\n",
       " (231.0, 42, 4),\n",
       " (216.0, 43, 5),\n",
       " (153.0, 44, 4),\n",
       " (153.0, 45, 3),\n",
       " (153.0, 46, 5),\n",
       " (178.0, 47, 4),\n",
       " (153.0, 48, 4),\n",
       " (250.0, 49, 3),\n",
       " (178.0, 50, 5),\n",
       " (153.0, 51, 4),\n",
       " (153.0, 52, 3),\n",
       " (178.0, 53, 5),\n",
       " (178.0, 54, 5),\n",
       " (153.0, 55, 3),\n",
       " (250.0, 56, 3),\n",
       " (178.0, 57, 5),\n",
       " (153.0, 58, 4),\n",
       " (153.0, 59, 3),\n",
       " (178.0, 60, 4),\n",
       " (216.0, 61, 4),\n",
       " (178.0, 62, 3),\n",
       " (241.0, 63, 4),\n",
       " (178.0, 64, 5),\n",
       " (178.0, 65, 4),\n",
       " (178.0, 66, 5),\n",
       " (178.0, 67, 4),\n",
       " (153.0, 68, 5),\n",
       " (153.0, 69, 3),\n",
       " (216.0, 70, 3),\n",
       " (153.0, 71, 5),\n",
       " (153.0, 72, 4),\n",
       " (153.0, 73, 3),\n",
       " (153.0, 74, 5),\n",
       " (153.0, 75, 5),\n",
       " (153.0, 76, 4),\n",
       " (216.0, 77, 4),\n",
       " (153.0, 78, 4),\n",
       " (153.0, 79, 4),\n",
       " (153.0, 80, 5),\n",
       " (153.0, 81, 5),\n",
       " (153.0, 82, 5),\n",
       " (153.0, 83, 3),\n",
       " (216.0, 84, 4),\n",
       " (153.0, 85, 3),\n",
       " (153.0, 86, 3),\n",
       " (153.0, 87, 5),\n",
       " (153.0, 88, 5),\n",
       " (153.0, 89, 4)]"
      ]
     },
     "execution_count": 525,
     "metadata": {},
     "output_type": "execute_result"
    }
   ],
   "source": [
    "import pandas as pd\n",
    "import datetime\n",
    "%matplotlib inline\n",
    "from dateutil.parser import parse\n",
    "\n",
    "clean_data = [(float(d[0].replace('$', '').replace(',', '')), \n",
    "               (parse(d[1].split('-')[0].strip()) - parse(flight_data[0][1].split('-')[0].strip())).days, \n",
    "               reduce(lambda x,y: y-x, [parse(x.strip()) for x in d[1].split('-')]).days) for d in flight_data]\n",
    "clean_data"
   ]
  },
  {
   "cell_type": "code",
   "execution_count": 553,
   "metadata": {
    "collapsed": false
   },
   "outputs": [
    {
     "data": {
      "text/plain": [
       "28.284271247461902"
      ]
     },
     "execution_count": 553,
     "metadata": {},
     "output_type": "execute_result"
    }
   ],
   "source": [
    "radius = np.sqrt(np.square(20.00) + np.square(20.00))\n",
    "radius"
   ]
  },
  {
   "cell_type": "code",
   "execution_count": 703,
   "metadata": {
    "collapsed": false,
    "scrolled": false
   },
   "outputs": [
    {
     "data": {
      "text/plain": [
       "<matplotlib.axes._subplots.AxesSubplot at 0x7fa7340f3d50>"
      ]
     },
     "execution_count": 703,
     "metadata": {},
     "output_type": "execute_result"
    },
    {
     "data": {
      "image/png": "[encoded data removed]",
      "text/plain": [
       "<matplotlib.figure.Figure at 0x7fa73544c6d0>"
      ]
     },
     "metadata": {},
     "output_type": "display_data"
    }
   ],
   "source": [
    "df = pd.DataFrame(clean_data, columns=['Price', 'Start_Date', 'Trip_Length'])\n",
    "import matplotlib\n",
    "import matplotlib.pyplot as plt\n",
    "\n",
    "matplotlib.style.use('ggplot')\n",
    "\n",
    "# Pandas has a ton of built-in visualizations\n",
    "# Play and Learn\n",
    "# http://pandas.pydata.org/pandas-docs/stable/visualization.html\n",
    "df.plot.scatter(x='Start_Date', y='Price')"
   ]
  },
  {
   "cell_type": "code",
   "execution_count": 571,
   "metadata": {
    "collapsed": true
   },
   "outputs": [],
   "source": [
    "df = df.set_value(12, 'Price', 20)\n",
    "df = df.set_value(13, 'Price', 25)\n",
    "df = df.set_value(14, 'Price', 40)\n",
    "df = df.set_value(15, 'Price', 20)\n",
    "df = df.set_value(16, 'Price', 25)\n",
    "df = df.set_value(17, 'Price', 40)\n",
    "df = df.set_value(18, 'Price', 50)\n",
    "df = df.set_value(19, 'Price', 60)\n",
    "# Time for a Google Investigation\n",
    "# \"IQR Outlier\""
   ]
  },
  {
   "cell_type": "code",
   "execution_count": 704,
   "metadata": {
    "collapsed": false,
    "scrolled": false
   },
   "outputs": [
    {
     "data": {
      "image/png": "[encoded data removed]",
      "text/plain": [
       "<matplotlib.figure.Figure at 0x7fa73540e290>"
      ]
     },
     "metadata": {},
     "output_type": "display_data"
    }
   ],
   "source": [
    "from sklearn.cluster import DBSCAN\n",
    "from sklearn.preprocessing import StandardScaler\n",
    "import numpy as np\n",
    "# All of pandas' viz is built on top of matplotlib as you might have noticed\n",
    "# You can get started learning matplotlib here: http://matplotlib.org/users/pyplot_tutorial.html\n",
    "\n",
    "\n",
    "# df = df.set_value(49, 'Price', 255)\n",
    "# X = StandardScaler().fit_transform(df[['Start_Date', 'Price']])\n",
    "  \n",
    "X = df[['Start_Date', 'Price']].values*np.array([20,1])\n",
    "radius = np.sqrt(np.square(20.00) + np.square(20.00))\n",
    "db = DBSCAN(eps=radius, min_samples=3).fit(X)\n",
    "\n",
    "labels = db.labels_\n",
    "clusters = len(set(labels))\n",
    "unique_labels = set(labels)\n",
    "colors = plt.cm.Spectral(np.linspace(0, 1, len(unique_labels)))\n",
    " \n",
    "plt.subplots(figsize=(12,8))\n",
    " \n",
    "for k, c in zip(unique_labels, colors):\n",
    "    class_member_mask = (labels == k)\n",
    "    xy = X[class_member_mask]\n",
    "    plt.plot(xy[:, 0], xy[:, 1], 'o', markerfacecolor=c,\n",
    "            markeredgecolor='k', markersize=14)\n",
    " \n",
    "plt.title(\"Total Clusters: {}\".format(clusters), fontsize=14, y=1.01)\n",
    "df['dbscan_labels'] = db.labels_"
   ]
  },
  {
   "cell_type": "code",
   "execution_count": 705,
   "metadata": {
    "collapsed": false
   },
   "outputs": [
    {
     "data": {
      "text/plain": [
       "array([-1,  0,  1,  2,  3,  4])"
      ]
     },
     "execution_count": 705,
     "metadata": {},
     "output_type": "execute_result"
    }
   ],
   "source": [
    "clusters=df.dbscan_labels.unique()\n",
    "clusters"
   ]
  },
  {
   "cell_type": "code",
   "execution_count": 706,
   "metadata": {
    "collapsed": false,
    "scrolled": true
   },
   "outputs": [
    {
     "data": {
      "text/plain": [
       "[array([71, 72, 73, 74, 75]),\n",
       " array([72, 73, 74, 75, 76]),\n",
       " array([78, 79, 80, 81, 82]),\n",
       " array([79, 80, 81, 82, 83]),\n",
       " array([85, 86, 87, 88, 89])]"
      ]
     },
     "execution_count": 706,
     "metadata": {},
     "output_type": "execute_result"
    }
   ],
   "source": [
    "clusters_5=[]\n",
    "for cluster in clusters:\n",
    "    if cluster!=-1 and len(df[df['dbscan_labels']==cluster])>4:\n",
    "        for i in range(len(df[df['dbscan_labels']==cluster])-4):\n",
    "            clusters_5.append(df[df['dbscan_labels']==cluster]['Start_Date'].values[i:i+5])\n",
    "    else:\n",
    "        pass\n",
    "clusters_5"
   ]
  },
  {
   "cell_type": "code",
   "execution_count": 707,
   "metadata": {
    "collapsed": false
   },
   "outputs": [],
   "source": [
    "mean_min=9999\n",
    "cluster_mean_min=''\n",
    "for cluster_5 in clusters_5:\n",
    "    df_5=df.loc[cluster_5][['Start_Date','Price']]\n",
    "    cluster_max=df_5['Price'].max()\n",
    "    cluster_min=df_5['Price'].min()\n",
    "    cluster_mean=df_5['Price'].mean()\n",
    "\n",
    "    if cluster_max-cluster_min<=20 and cluster_mean < mean_min:\n",
    "        mean_min=cluster_mean\n",
    "        cluster_mean_min=cluster_5\n",
    "    else:\n",
    "        pass"
   ]
  },
  {
   "cell_type": "code",
   "execution_count": 711,
   "metadata": {
    "collapsed": false
   },
   "outputs": [
    {
     "data": {
      "text/html": [
       "<div>\n",
       "<table border=\"1\" class=\"dataframe\">\n",
       "  <thead>\n",
       "    <tr style=\"text-align: right;\">\n",
       "      <th></th>\n",
       "      <th>Price</th>\n",
       "      <th>Start_Date</th>\n",
       "      <th>Trip_Length</th>\n",
       "      <th>dbscan_labels</th>\n",
       "    </tr>\n",
       "  </thead>\n",
       "  <tbody>\n",
       "    <tr>\n",
       "      <th>71</th>\n",
       "      <td>153.0</td>\n",
       "      <td>71</td>\n",
       "      <td>5</td>\n",
       "      <td>2</td>\n",
       "    </tr>\n",
       "    <tr>\n",
       "      <th>72</th>\n",
       "      <td>153.0</td>\n",
       "      <td>72</td>\n",
       "      <td>4</td>\n",
       "      <td>2</td>\n",
       "    </tr>\n",
       "    <tr>\n",
       "      <th>73</th>\n",
       "      <td>153.0</td>\n",
       "      <td>73</td>\n",
       "      <td>3</td>\n",
       "      <td>2</td>\n",
       "    </tr>\n",
       "    <tr>\n",
       "      <th>74</th>\n",
       "      <td>153.0</td>\n",
       "      <td>74</td>\n",
       "      <td>5</td>\n",
       "      <td>2</td>\n",
       "    </tr>\n",
       "    <tr>\n",
       "      <th>75</th>\n",
       "      <td>153.0</td>\n",
       "      <td>75</td>\n",
       "      <td>5</td>\n",
       "      <td>2</td>\n",
       "    </tr>\n",
       "  </tbody>\n",
       "</table>\n",
       "</div>"
      ],
      "text/plain": [
       "    Price  Start_Date  Trip_Length  dbscan_labels\n",
       "71  153.0          71            5              2\n",
       "72  153.0          72            4              2\n",
       "73  153.0          73            3              2\n",
       "74  153.0          74            5              2\n",
       "75  153.0          75            5              2"
      ]
     },
     "execution_count": 711,
     "metadata": {},
     "output_type": "execute_result"
    }
   ],
   "source": [
    "df.loc[cluster_mean_min]"
   ]
  },
  {
   "cell_type": "code",
   "execution_count": 709,
   "metadata": {
    "collapsed": false,
    "scrolled": true
   },
   "outputs": [
    {
     "data": {
      "text/plain": [
       "array([71, 72, 73, 74, 75])"
      ]
     },
     "execution_count": 709,
     "metadata": {},
     "output_type": "execute_result"
    }
   ],
   "source": [
    "cluster_mean_min"
   ]
  },
  {
   "cell_type": "code",
   "execution_count": 512,
   "metadata": {
    "collapsed": false
   },
   "outputs": [
    {
     "data": {
      "image/png": "[encoded data removed]",
      "text/plain": [
       "<matplotlib.figure.Figure at 0x7fa72f7bbd90>"
      ]
     },
     "metadata": {},
     "output_type": "display_data"
    }
   ],
   "source": [
    "plt.subplots(figsize=(12,8))\n",
    "for k, c in zip(unique_labels, colors):\n",
    "    class_member_mask = (labels == k)\n",
    "    xy = X[class_member_mask]\n",
    "    plt.plot(xy[:, 0], xy[:, 1], 'o', markerfacecolor=c,\n",
    "            markeredgecolor='k', markersize=14)"
   ]
  },
  {
   "cell_type": "code",
   "execution_count": 504,
   "metadata": {
    "collapsed": false
   },
   "outputs": [],
   "source": [
    "    start_date = parse(flight_data[0][1].split('-')[0].strip())\n",
    "    db = DBSCAN(eps=radius, min_samples=3).fit(X)\n",
    "    df['label'] = db.labels_\n",
    "    clusters = len(set(labels))\n",
    "    unique_labels = set(labels)\n",
    "    list_of_dfs = []\n",
    "    for label in unique_labels:\n",
    "        if label != -1:\n",
    "            one_cluster = df[df.label == label]\n",
    "\n",
    "            # find start/end date for every 5-day-consecutive period\n",
    "            consecutive_list = []\n",
    "            days = one_cluster.Start_Date.values\n",
    "            for i in range(len(days) - 4):\n",
    "                if days[i + 4] - days[i] == 4:\n",
    "                    consecutive_list.append((days[i], days[i + 4]))\n",
    "\n",
    "            # a list of 5-day-consecutive period dataframes\n",
    "            for start, end in consecutive_list:\n",
    "                df_five_day = one_cluster.loc[start - 1:end - 1, ['Start_Date', 'Price']]\n",
    "\n",
    "                if df_five_day.Price.describe()['max'] - df_five_day.Price.describe()['min'] <= 20:\n",
    "                    df_five_day.Start_Date = df_five_day.Start_Date.apply(\n",
    "                        lambda x: (start_date + datetime.timedelta(\n",
    "                            days=x - 1)).strftime('%Y-%m-%d'))\n",
    "                    list_of_dfs.append(df_five_day)\n",
    "    means = [one_df.Price.mean() for one_df in list_of_dfs]\n",
    "    df_min_index = means.index(min(means))"
   ]
  },
  {
   "cell_type": "code",
   "execution_count": 507,
   "metadata": {
    "collapsed": false
   },
   "outputs": [
    {
     "data": {
      "text/html": [
       "<div>\n",
       "<table border=\"1\" class=\"dataframe\">\n",
       "  <thead>\n",
       "    <tr style=\"text-align: right;\">\n",
       "      <th></th>\n",
       "      <th>Start_Date</th>\n",
       "      <th>Price</th>\n",
       "    </tr>\n",
       "  </thead>\n",
       "  <tbody>\n",
       "    <tr>\n",
       "      <th>71</th>\n",
       "      <td>2017-07-09</td>\n",
       "      <td>153.0</td>\n",
       "    </tr>\n",
       "    <tr>\n",
       "      <th>72</th>\n",
       "      <td>2017-07-10</td>\n",
       "      <td>153.0</td>\n",
       "    </tr>\n",
       "    <tr>\n",
       "      <th>73</th>\n",
       "      <td>2017-07-11</td>\n",
       "      <td>153.0</td>\n",
       "    </tr>\n",
       "    <tr>\n",
       "      <th>74</th>\n",
       "      <td>2017-07-12</td>\n",
       "      <td>153.0</td>\n",
       "    </tr>\n",
       "  </tbody>\n",
       "</table>\n",
       "</div>"
      ],
      "text/plain": [
       "    Start_Date  Price\n",
       "71  2017-07-09  153.0\n",
       "72  2017-07-10  153.0\n",
       "73  2017-07-11  153.0\n",
       "74  2017-07-12  153.0"
      ]
     },
     "execution_count": 507,
     "metadata": {},
     "output_type": "execute_result"
    }
   ],
   "source": [
    "list_of_dfs[df_min_index]"
   ]
  },
  {
   "cell_type": "code",
   "execution_count": 319,
   "metadata": {
    "collapsed": false
   },
   "outputs": [
    {
     "data": {
      "text/plain": [
       "[(10, 40.0), (15, 200.0), (23, 557.0), (24, 785.0), (25, 634.0), (26, 712.0)]"
      ]
     },
     "execution_count": 319,
     "metadata": {},
     "output_type": "execute_result"
    }
   ],
   "source": [
    "outliers=df[df['dbscan_labels']==-1].copy()\n",
    "outliers_1=zip(outliers.Start_Date,outliers.Price)\n",
    "outliers_1"
   ]
  },
  {
   "cell_type": "code",
   "execution_count": 320,
   "metadata": {
    "collapsed": false,
    "scrolled": true
   },
   "outputs": [
    {
     "data": {
      "text/plain": [
       "[(0, 476.0, 0),\n",
       " (1, 431.0, 0),\n",
       " (2, 476.0, 0),\n",
       " (3, 481.0, 0),\n",
       " (4, 499.0, 0),\n",
       " (5, 476.0, 0),\n",
       " (6, 451.0, 0),\n",
       " (7, 476.0, 0),\n",
       " (8, 431.0, 0),\n",
       " (9, 450.0, 0),\n",
       " (11, 431.0, 0),\n",
       " (12, 476.0, 0),\n",
       " (13, 480.0, 0),\n",
       " (14, 476.0, 0),\n",
       " (16, 425.0, 0),\n",
       " (17, 521.0, 1),\n",
       " (18, 518.0, 1),\n",
       " (19, 518.0, 1),\n",
       " (20, 518.0, 1),\n",
       " (21, 518.0, 1),\n",
       " (22, 518.0, 1),\n",
       " (27, 520.0, 1),\n",
       " (28, 525.0, 1),\n",
       " (29, 495.0, 1),\n",
       " (30, 477.0, 1),\n",
       " (31, 495.0, 1),\n",
       " (32, 520.0, 1),\n",
       " (33, 518.0, 1),\n",
       " (34, 517.0, 1),\n",
       " (35, 520.0, 1),\n",
       " (36, 520.0, 1),\n",
       " (37, 518.0, 1),\n",
       " (38, 480.0, 1),\n",
       " (39, 521.0, 1),\n",
       " (40, 518.0, 1),\n",
       " (41, 518.0, 1),\n",
       " (42, 520.0, 1),\n",
       " (43, 520.0, 1),\n",
       " (44, 525.0, 1),\n",
       " (45, 521.0, 1),\n",
       " (46, 521.0, 1),\n",
       " (47, 490.0, 1),\n",
       " (48, 435.0, 1),\n",
       " (49, 521.0, 1),\n",
       " (50, 482.0, 1),\n",
       " (51, 450.0, 1),\n",
       " (52, 429.0, 1),\n",
       " (53, 530.0, 1),\n",
       " (54, 620.0, 1),\n",
       " (55, 591.0, 1),\n",
       " (56, 561.0, 1),\n",
       " (57, 566.0, 1),\n",
       " (58, 507.0, 1),\n",
       " (59, 509.0, 1),\n",
       " (60, 521.0, 1),\n",
       " (61, 521.0, 1),\n",
       " (62, 518.0, 1),\n",
       " (63, 520.0, 1),\n",
       " (64, 520.0, 1),\n",
       " (65, 521.0, 1),\n",
       " (66, 586.0, 1),\n",
       " (67, 525.0, 1),\n",
       " (68, 525.0, 1),\n",
       " (69, 534.0, 1),\n",
       " (70, 566.0, 1),\n",
       " (71, 526.0, 1),\n",
       " (72, 620.0, 1),\n",
       " (73, 606.0, 1),\n",
       " (74, 521.0, 1),\n",
       " (75, 521.0, 1),\n",
       " (76, 520.0, 1),\n",
       " (77, 566.0, 1),\n",
       " (78, 622.0, 1),\n",
       " (79, 620.0, 1),\n",
       " (80, 566.0, 1),\n",
       " (81, 521.0, 1),\n",
       " (82, 521.0, 1),\n",
       " (83, 520.0, 1),\n",
       " (84, 622.0, 1),\n",
       " (85, 566.0, 1),\n",
       " (86, 620.0, 1),\n",
       " (87, 606.0, 1),\n",
       " (88, 520.0, 1),\n",
       " (89, 518.0, 1)]"
      ]
     },
     "execution_count": 320,
     "metadata": {},
     "output_type": "execute_result"
    }
   ],
   "source": [
    "clusters=df[df['dbscan_labels']!=-1].copy()\n",
    "clusters_1=zip(clusters.Start_Date,clusters.Price,clusters.dbscan_labels)\n",
    "clusters_1"
   ]
  },
  {
   "cell_type": "code",
   "execution_count": 321,
   "metadata": {
    "collapsed": false
   },
   "outputs": [
    {
     "data": {
      "text/plain": [
       "[(10, 40.0, 0),\n",
       " (15, 200.0, 0),\n",
       " (23, 557.0, 1),\n",
       " (24, 785.0, 1),\n",
       " (25, 634.0, 1),\n",
       " (26, 712.0, 1)]"
      ]
     },
     "execution_count": 321,
     "metadata": {},
     "output_type": "execute_result"
    }
   ],
   "source": [
    "outliers_label=[]\n",
    "for outlier in outliers_1:\n",
    "    min_cluster_label = -1\n",
    "    min_dist = 9999\n",
    "    for cluster in clusters_1:\n",
    "        dist=(float(outlier[0])-float(cluster[0]))**2+((float(outlier[1])-float(cluster[1]))/100)**2\n",
    "        if dist < min_dist:\n",
    "            min_dist = dist\n",
    "            min_cluster_label = cluster[2]\n",
    "    outliers_label.append(min_cluster_label)\n",
    "outliers_label\n",
    "outliers_2=zip(outliers.Start_Date,outliers.Price,outliers_label)\n",
    "outliers_2"
   ]
  },
  {
   "cell_type": "code",
   "execution_count": 322,
   "metadata": {
    "collapsed": false
   },
   "outputs": [
    {
     "data": {
      "text/html": [
       "<div>\n",
       "<table border=\"1\" class=\"dataframe\">\n",
       "  <thead>\n",
       "    <tr>\n",
       "      <th></th>\n",
       "      <th colspan=\"3\" halign=\"left\">Start_Date</th>\n",
       "      <th colspan=\"3\" halign=\"left\">Price</th>\n",
       "    </tr>\n",
       "    <tr>\n",
       "      <th></th>\n",
       "      <th>std</th>\n",
       "      <th>mean</th>\n",
       "      <th>count</th>\n",
       "      <th>std</th>\n",
       "      <th>mean</th>\n",
       "      <th>count</th>\n",
       "    </tr>\n",
       "    <tr>\n",
       "      <th>dbscan_labels</th>\n",
       "      <th></th>\n",
       "      <th></th>\n",
       "      <th></th>\n",
       "      <th></th>\n",
       "      <th></th>\n",
       "      <th></th>\n",
       "    </tr>\n",
       "  </thead>\n",
       "  <tbody>\n",
       "    <tr>\n",
       "      <th>0</th>\n",
       "      <td>4.997142</td>\n",
       "      <td>7.400000</td>\n",
       "      <td>15</td>\n",
       "      <td>23.521014</td>\n",
       "      <td>462.333333</td>\n",
       "      <td>15</td>\n",
       "    </tr>\n",
       "    <tr>\n",
       "      <th>1</th>\n",
       "      <td>20.640356</td>\n",
       "      <td>54.652174</td>\n",
       "      <td>69</td>\n",
       "      <td>41.540523</td>\n",
       "      <td>530.869565</td>\n",
       "      <td>69</td>\n",
       "    </tr>\n",
       "  </tbody>\n",
       "</table>\n",
       "</div>"
      ],
      "text/plain": [
       "              Start_Date                       Price                  \n",
       "                     std       mean count        std        mean count\n",
       "dbscan_labels                                                         \n",
       "0               4.997142   7.400000    15  23.521014  462.333333    15\n",
       "1              20.640356  54.652174    69  41.540523  530.869565    69"
      ]
     },
     "execution_count": 322,
     "metadata": {},
     "output_type": "execute_result"
    }
   ],
   "source": [
    "agg = df[df['dbscan_labels']!=-1].groupby('dbscan_labels')['Start_Date','Price'].agg(['std','mean','count']).copy()\n",
    "agg"
   ]
  },
  {
   "cell_type": "code",
   "execution_count": 323,
   "metadata": {
    "collapsed": false
   },
   "outputs": [
    {
     "data": {
      "text/plain": [
       "415.2913055182786"
      ]
     },
     "execution_count": 323,
     "metadata": {},
     "output_type": "execute_result"
    }
   ],
   "source": [
    "mean=agg[agg.index==outliers_2[0][2]]['Price']['mean']\n",
    "std=agg[agg.index==outliers_2[0][2]]['Price']['std']\n",
    "max(float(mean-2*std),50)"
   ]
  },
  {
   "cell_type": "code",
   "execution_count": 324,
   "metadata": {
    "collapsed": false
   },
   "outputs": [
    {
     "data": {
      "text/plain": [
       "[10, 15]"
      ]
     },
     "execution_count": 324,
     "metadata": {},
     "output_type": "execute_result"
    }
   ],
   "source": [
    "outliers_3=[]\n",
    "for outlier in outliers_2:\n",
    "    mean=agg[agg.index==outlier[2]]['Price']['mean']\n",
    "    std=agg[agg.index==outlier[2]]['Price']['std']\n",
    "    line=max(float(mean-2*std),50)\n",
    "    if outlier[1]<line:\n",
    "        outliers_3.append(outlier[0])\n",
    "outliers_3"
   ]
  },
  {
   "cell_type": "code",
   "execution_count": 325,
   "metadata": {
    "collapsed": false
   },
   "outputs": [
    {
     "data": {
      "text/html": [
       "<div>\n",
       "<table border=\"1\" class=\"dataframe\">\n",
       "  <thead>\n",
       "    <tr style=\"text-align: right;\">\n",
       "      <th></th>\n",
       "      <th>Price</th>\n",
       "      <th>Start_Date</th>\n",
       "      <th>Trip_Length</th>\n",
       "      <th>dbscan_labels</th>\n",
       "    </tr>\n",
       "  </thead>\n",
       "  <tbody>\n",
       "    <tr>\n",
       "      <th>10</th>\n",
       "      <td>40.0</td>\n",
       "      <td>10</td>\n",
       "      <td>5</td>\n",
       "      <td>-1</td>\n",
       "    </tr>\n",
       "    <tr>\n",
       "      <th>15</th>\n",
       "      <td>200.0</td>\n",
       "      <td>15</td>\n",
       "      <td>4</td>\n",
       "      <td>-1</td>\n",
       "    </tr>\n",
       "  </tbody>\n",
       "</table>\n",
       "</div>"
      ],
      "text/plain": [
       "    Price  Start_Date  Trip_Length  dbscan_labels\n",
       "10   40.0          10            5             -1\n",
       "15  200.0          15            4             -1"
      ]
     },
     "execution_count": 325,
     "metadata": {},
     "output_type": "execute_result"
    }
   ],
   "source": [
    "df.loc[outliers_3]"
   ]
  },
  {
   "cell_type": "code",
   "execution_count": 138,
   "metadata": {
    "collapsed": false
   },
   "outputs": [
    {
     "name": "stdout",
     "output_type": "stream",
     "text": [
      "true\n"
     ]
    }
   ],
   "source": [
    "if bool(re.search('multi', 'A mUltiCased string', re.IGNORECASE)):\n",
    "    print 'true'\n",
    "else:\n",
    "    print 'false'"
   ]
  },
  {
   "cell_type": "code",
   "execution_count": 343,
   "metadata": {
    "collapsed": false
   },
   "outputs": [],
   "source": [
    "a='New York'"
   ]
  },
  {
   "cell_type": "code",
   "execution_count": 347,
   "metadata": {
    "collapsed": false,
    "scrolled": true
   },
   "outputs": [],
   "source": [
    "b=a.lower().split(' ')"
   ]
  },
  {
   "cell_type": "code",
   "execution_count": 357,
   "metadata": {
    "collapsed": false
   },
   "outputs": [],
   "source": [
    "c=''\n",
    "for i in range(len(b)):\n",
    "    c=c+b[i][0].upper()+b[i][1:]+' '"
   ]
  },
  {
   "cell_type": "code",
   "execution_count": 358,
   "metadata": {
    "collapsed": false
   },
   "outputs": [
    {
     "data": {
      "text/plain": [
       "'New York '"
      ]
     },
     "execution_count": 358,
     "metadata": {},
     "output_type": "execute_result"
    }
   ],
   "source": [
    "c"
   ]
  },
  {
   "cell_type": "code",
   "execution_count": 434,
   "metadata": {
    "collapsed": false
   },
   "outputs": [
    {
     "data": {
      "image/png": "[encoded data removed]",
      "text/plain": [
       "<matplotlib.figure.Figure at 0x7fa7355beed0>"
      ]
     },
     "metadata": {},
     "output_type": "display_data"
    }
   ],
   "source": [
    "    plt.boxplot(df['Price']);\n",
    "    plt.savefig('task_3_iqr.png')"
   ]
  },
  {
   "cell_type": "code",
   "execution_count": 435,
   "metadata": {
    "collapsed": false
   },
   "outputs": [
    {
     "data": {
      "image/png": "[encoded data removed]",
      "text/plain": [
       "<matplotlib.figure.Figure at 0x7fa7355bee50>"
      ]
     },
     "metadata": {},
     "output_type": "display_data"
    }
   ],
   "source": [
    "    plt.boxplot(df['Price']);\n",
    "    plt.savefig('task_3_iqr.png')\n",
    "    Q1 = df.Price.describe()['25%']\n",
    "    Q3 = df.Price.describe()['75%']\n",
    "    IQR = Q3 - Q1\n",
    "    low_line = Q1 - 1.5 * IQR\n",
    "    result = df[df.Price < low_line]"
   ]
  },
  {
   "cell_type": "code",
   "execution_count": 447,
   "metadata": {
    "collapsed": false
   },
   "outputs": [
    {
     "data": {
      "text/html": [
       "<div>\n",
       "<table border=\"1\" class=\"dataframe\">\n",
       "  <thead>\n",
       "    <tr style=\"text-align: right;\">\n",
       "      <th></th>\n",
       "      <th>Price</th>\n",
       "      <th>Start_Date</th>\n",
       "      <th>Trip_Length</th>\n",
       "      <th>dbscan_labels</th>\n",
       "    </tr>\n",
       "  </thead>\n",
       "  <tbody>\n",
       "    <tr>\n",
       "      <th>15</th>\n",
       "      <td>20.0</td>\n",
       "      <td>15</td>\n",
       "      <td>3</td>\n",
       "      <td>0</td>\n",
       "    </tr>\n",
       "  </tbody>\n",
       "</table>\n",
       "</div>"
      ],
      "text/plain": [
       "    Price  Start_Date  Trip_Length  dbscan_labels\n",
       "15   20.0          15            3              0"
      ]
     },
     "execution_count": 447,
     "metadata": {},
     "output_type": "execute_result"
    }
   ],
   "source": [
    "result"
   ]
  },
  {
   "cell_type": "code",
   "execution_count": 453,
   "metadata": {
    "collapsed": false
   },
   "outputs": [
    {
     "data": {
      "text/plain": [
       "1"
      ]
     },
     "execution_count": 453,
     "metadata": {},
     "output_type": "execute_result"
    }
   ],
   "source": [
    "len(result)"
   ]
  },
  {
   "cell_type": "code",
   "execution_count": 450,
   "metadata": {
    "collapsed": false
   },
   "outputs": [
    {
     "ename": "SyntaxError",
     "evalue": "'return' outside function (<ipython-input-450-6d580a26b40c>, line 2)",
     "output_type": "error",
     "traceback": [
      "\u001b[0;36m  File \u001b[0;32m\"<ipython-input-450-6d580a26b40c>\"\u001b[0;36m, line \u001b[0;32m2\u001b[0m\n\u001b[0;31m    return 'No outliers'\u001b[0m\n\u001b[0;31mSyntaxError\u001b[0m\u001b[0;31m:\u001b[0m 'return' outside function\n"
     ]
    }
   ],
   "source": [
    "if len(result) == 0:\n",
    "    return 'No outliers'\n",
    "else:\n",
    "    return result"
   ]
  },
  {
   "cell_type": "code",
   "execution_count": 462,
   "metadata": {
    "collapsed": false
   },
   "outputs": [
    {
     "data": {
      "text/plain": [
       "count     90.000000\n",
       "mean     173.355556\n",
       "std       41.575790\n",
       "min       20.000000\n",
       "25%      153.000000\n",
       "50%      153.000000\n",
       "75%      196.000000\n",
       "max      256.000000\n",
       "Name: Price, dtype: float64"
      ]
     },
     "execution_count": 462,
     "metadata": {},
     "output_type": "execute_result"
    }
   ],
   "source": [
    "df.Price.describe()"
   ]
  },
  {
   "cell_type": "code",
   "execution_count": 456,
   "metadata": {
    "collapsed": false
   },
   "outputs": [
    {
     "name": "stdout",
     "output_type": "stream",
     "text": [
      "    Price  Start_Date  Trip_Length  dbscan_labels\n",
      "15   20.0          15            3              0\n"
     ]
    }
   ],
   "source": [
    "if a == 0:\n",
    "    print 'No outliers'\n",
    "else:\n",
    "    print result"
   ]
  },
  {
   "cell_type": "code",
   "execution_count": null,
   "metadata": {
    "collapsed": true
   },
   "outputs": [],
   "source": []
  }
 ],
 "metadata": {
  "kernelspec": {
   "display_name": "Python 2",
   "language": "python",
   "name": "python2"
  },
  "language_info": {
   "codemirror_mode": {
    "name": "ipython",
    "version": 2
   },
   "file_extension": ".py",
   "mimetype": "text/x-python",
   "name": "python",
   "nbconvert_exporter": "python",
   "pygments_lexer": "ipython2",
   "version": "2.7.13"
  }
 },
 "nbformat": 4,
 "nbformat_minor": 2
}
