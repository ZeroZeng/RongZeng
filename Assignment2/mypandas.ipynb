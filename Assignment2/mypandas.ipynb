{
 "cells": [
  {
   "cell_type": "code",
   "execution_count": 136,
   "metadata": {
    "collapsed": false
   },
   "outputs": [],
   "source": [
    "from collections import OrderedDict\n",
    "import csv\n",
    "from dateutil.parser import parse\n",
    "import datetime,time\n",
    "\n",
    "class DataFrame(object):\n",
    "\n",
    "    @classmethod\n",
    "    def from_csv(cls, file_path, delimiting_character=',', quote_character='\"'):\n",
    "        with open(file_path, 'rU') as infile:\n",
    "            reader = csv.reader(infile, delimiter=delimiting_character, quotechar=quote_character)\n",
    "            data = []\n",
    "\n",
    "            for row in reader:\n",
    "                data.append(row)\n",
    "\n",
    "            return cls(list_of_lists=data)\n",
    "\n",
    "    def __init__(self, list_of_lists, header=True):\n",
    "        if header:\n",
    "            self.header = list_of_lists[0]\n",
    "            self.data = list_of_lists[1:]\n",
    "        else:\n",
    "            self.header = ['column' + str(index + 1) for index, column in enumerate(list_of_lists[0])]\n",
    "            self.data = list_of_lists\n",
    "\n",
    "\n",
    "\n",
    "        ############# task 1 #############\n",
    "        if len(self.header) != len(set(self.header)):\n",
    "            raise Exception('There are duplicates!!!')\n",
    "        ############# end task 1 #############\n",
    "\n",
    "        ############# task 2 #############\n",
    "        self.data=[[s.strip() for s in row] for row in self.data]\n",
    "        ############# end task 2 #############\n",
    "\n",
    "        self.data = [OrderedDict(zip(self.header, row)) for row in self.data]\n",
    "\n",
    "    def __getitem__(self, item):\n",
    "        # this is for rows only\n",
    "        if isinstance(item, (int, slice)):\n",
    "            return self.data[item]\n",
    "\n",
    "        # this is for columns only\n",
    "        elif isinstance(item, str):\n",
    "            return [row[item] for row in self.data]\n",
    "\n",
    "        # this is for rows and columns\n",
    "        elif isinstance(item, tuple):\n",
    "            if isinstance(item[0], list) or isinstance(item[1], list):\n",
    "\n",
    "                if isinstance(item[0], list):\n",
    "                    rowz = [row for index, row in enumerate(self.data) if index in item[0]]\n",
    "                else:\n",
    "                    rowz = self.data[item[0]]\n",
    "\n",
    "                if isinstance(item[1], list):\n",
    "                    if all([isinstance(thing, int) for thing in item[1]]):\n",
    "                        return [[column_value for index, column_value in enumerate([value for value in row.itervalues()]) if index in item[1]] for row in rowz]\n",
    "                    elif all([isinstance(thing,str) for thing in item[1]]):\n",
    "                        return [[row[column_name] for column_name in item[1]] for row in rowz]\n",
    "                    else:\n",
    "                        raise TypeError('What the hell is this?')\n",
    "\n",
    "                else:\n",
    "                    return [[value for value in row.itervalues()][item[1]] for row in rowz]\n",
    "            else:\n",
    "                if isinstance(item[1], (int, slice)):\n",
    "                    return [[value for value in row.itervalues()][item[1]] for row in self.data[item[0]]]\n",
    "                elif isinstance(item[1],str):\n",
    "                    return [row[item[1]] for row in self.data[item[0]]]\n",
    "                else:\n",
    "                    raise TypeError('I don\\'t know how to handle this...')\n",
    "\n",
    "        # only for lists of column names\n",
    "        elif isinstance(item, list):\n",
    "            return [[row[column_name] for column_name in item] for row in self.data]\n",
    "\n",
    "    def get_rows_where_column_has_value(self, column_name, value, index_only=False):\n",
    "        if index_only:\n",
    "            return [index for index, row_value in enumerate(self[column_name]) if row_value==value]\n",
    "        else:\n",
    "            return [row for row in self.data if row[column_name]==value]\n",
    "   \n",
    "    def min(self,col_name):\n",
    "        try:\n",
    "            nums = [float(row[col_name].replace(',','')) for row in self.data]\n",
    "            print min(nums)\n",
    "        except ValueError:\n",
    "            try:\n",
    "                nums=[datetime.datetime.strptime(row[col_name], '%m/%d/%y %H:%M') for row in self.data]\n",
    "                nums=[time.mktime(num.timetuple()) for num in nums]\n",
    "                print time.strftime('%m-%d-%y %H:%M',time.localtime(min(nums)))\n",
    "            except:    \n",
    "                print ('Cannot be calculated')\n",
    "\n",
    "    def max(self,col_name):\n",
    "        try:\n",
    "            nums = [float(row[col_name].replace(',','')) for row in self.data]\n",
    "            print max(nums)\n",
    "        except ValueError:\n",
    "            try:\n",
    "                nums=[datetime.datetime.strptime(row[col_name], '%m/%d/%y %H:%M') for row in self.data]\n",
    "                nums=[time.mktime(num.timetuple()) for num in nums]\n",
    "                print time.strftime('%m-%d-%y %H:%M',time.localtime(max(nums)))\n",
    "            except:    \n",
    "                print ('Cannot be calculated')\n",
    "\n",
    "    def median(self,col_name):\n",
    "        try:\n",
    "            nums = [float(row[col_name].replace(',','')) for row in self.data]\n",
    "            nums = sorted(nums)\n",
    "            center = int(len(nums) / 2)\n",
    "            if len(nums) % 2 == 0:\n",
    "                print sum(nums[center - 1:center + 1]) / 2.0\n",
    "            else:\n",
    "                print nums[center]\n",
    "        except ValueError:\n",
    "            try:\n",
    "                nums=[datetime.datetime.strptime(row[col_name], '%m/%d/%y %H:%M') for row in self.data]\n",
    "                nums=[time.mktime(num.timetuple()) for num in nums]\n",
    "                nums = sorted(nums)\n",
    "                center = int(len(nums) / 2)\n",
    "                if len(nums) % 2 == 0:\n",
    "                    print time.strftime('%m-%d-%y %H:%M',time.localtime(sum(nums[center - 1:center + 1]) / 2.0))\n",
    "                else:\n",
    "                    print time.strftime('%m-%d-%y %H:%M',time.localtime(nums[center]))\n",
    "            except:\n",
    "                print ('Cannot be calculated')\n",
    "\n",
    "\n",
    "    def mean(self,col_name):\n",
    "        try:\n",
    "            nums = [float(row[col_name].replace(',','')) for row in self.data]\n",
    "            count = len(nums)\n",
    "            print sum(nums) / count\n",
    "        except ValueError:\n",
    "            try:\n",
    "                nums=[datetime.datetime.strptime(row[col_name], '%m/%d/%y %H:%M') for row in self.data]\n",
    "                nums=[time.mktime(num.timetuple()) for num in nums]\n",
    "                count = len(nums)\n",
    "                print time.strftime('%m-%d-%y %H:%M',time.localtime(sum(nums) / count))                \n",
    "            except:\n",
    "                print ('Cannot be calculated')\n",
    "\n",
    "    def sum(self,col_name):\n",
    "        try:\n",
    "            nums = [float(row[col_name].replace(',','')) for row in self.data]\n",
    "            print sum(nums)\n",
    "        except ValueError:\n",
    "            print ('Cannot be calculated')\n",
    "\n",
    "    def std(self,col_name):\n",
    "        try:\n",
    "            nums = [float(row[col_name].replace(',','')) for row in self.data]\n",
    "            mean = sum(nums)/len(nums)\n",
    "            print  sum((x-mean)**2/len(nums) for x in nums)**0.5\n",
    "        except ValueError:\n",
    "            print ('Cannot be calculated')\n",
    "\n",
    "    ############# end task 3 #############\n",
    "\n",
    "    ############# HW2 task 4 #############\n",
    "    \n",
    "    def add_rows(self, list_of_lists):\n",
    "        for new_list in list_of_lists:\n",
    "            if len(new_list) == len(self.header):\n",
    "                new_row = [OrderedDict(zip(self.header, row)) for row in list_of_lists]\n",
    "                self.data = self.data + new_row\n",
    "                return self\n",
    "            else:\n",
    "                print ('Wrong number of len')\n",
    "    ############# end task 4 #############\n",
    "\n",
    "    ############# HW2 task 5 #############\n",
    "    \n",
    "    def add_column(self, list_of_lists, col_name):\n",
    "        if len(list_of_lists) == len(self.data):\n",
    "            self.header=self.header+column_name\n",
    "            new_col_dict = [OrderedDict(zip(new_col_head,row)) for row in list_of_lists]\n",
    "            for l in range(len(data)):\n",
    "                for rowz in self.data:\n",
    "                    rowz = self.data[l].update(new_col_dict[l]) \n",
    "            return self\n",
    "        else:\n",
    "            print (\"Wrong number of column\")\n",
    "    ############# end task 5 #############\n"
   ]
  },
  {
   "cell_type": "code",
   "execution_count": 137,
   "metadata": {
    "collapsed": true
   },
   "outputs": [],
   "source": [
    "df = DataFrame.from_csv('SalesJan2009.csv')"
   ]
  },
  {
   "cell_type": "code",
   "execution_count": 138,
   "metadata": {
    "collapsed": false
   },
   "outputs": [
    {
     "data": {
      "text/plain": [
       "OrderedDict([('Transaction_date', '1/3/09 14:44'),\n",
       "             ('Product', 'Product1'),\n",
       "             ('Price', '1200'),\n",
       "             ('Payment_Type', 'Visa'),\n",
       "             ('Name', 'Gouya'),\n",
       "             ('City', 'Echuca'),\n",
       "             ('State', 'Victoria'),\n",
       "             ('Country', 'Australia'),\n",
       "             ('Account_Created', '9/25/05 21:13'),\n",
       "             ('Last_Login', '1/3/09 14:22'),\n",
       "             ('Latitude', '-36.1333333'),\n",
       "             ('Longitude', '144.75')])"
      ]
     },
     "execution_count": 138,
     "metadata": {},
     "output_type": "execute_result"
    }
   ],
   "source": [
    "value=df[3]\n",
    "value"
   ]
  },
  {
   "cell_type": "code",
   "execution_count": 139,
   "metadata": {
    "collapsed": false
   },
   "outputs": [
    {
     "name": "stdout",
     "output_type": "stream",
     "text": [
      "01-02-09 06:08\n",
      "03-01-09 10:14\n",
      "02-04-09 15:05\n",
      "Cannot be calculated\n",
      "02-04-09 11:24\n",
      "Cannot be calculated\n"
     ]
    }
   ],
   "source": [
    "x='Last_Login'\n",
    "test1 = df.min(x)\n",
    "test2 = df.max(x)\n",
    "test3 = df.median(x)\n",
    "test4 = df.sum(x)\n",
    "test5 = df.mean(x)\n",
    "test6 = df.std(x)\n",
    "test1\n",
    "test2\n",
    "test3\n",
    "test4\n",
    "test5\n",
    "test6"
   ]
  },
  {
   "cell_type": "code",
   "execution_count": 145,
   "metadata": {
    "collapsed": false
   },
   "outputs": [],
   "source": []
  },
  {
   "cell_type": "code",
   "execution_count": 146,
   "metadata": {
    "collapsed": false
   },
   "outputs": [
    {
     "data": {
      "text/plain": [
       "[([1, 2, 3], ['a', 'b', 'c']),\n",
       " ([4, 5, 6], ['d', 'e', 'f']),\n",
       " ([7, 8, 9], ['g', 'h', 'i'])]"
      ]
     },
     "execution_count": 146,
     "metadata": {},
     "output_type": "execute_result"
    }
   ],
   "source": []
  },
  {
   "cell_type": "code",
   "execution_count": null,
   "metadata": {
    "collapsed": true
   },
   "outputs": [],
   "source": []
  }
 ],
 "metadata": {
  "kernelspec": {
   "display_name": "Python 2",
   "language": "python",
   "name": "python2"
  },
  "language_info": {
   "codemirror_mode": {
    "name": "ipython",
    "version": 2
   },
   "file_extension": ".py",
   "mimetype": "text/x-python",
   "name": "python",
   "nbconvert_exporter": "python",
   "pygments_lexer": "ipython2",
   "version": "2.7.13"
  }
 },
 "nbformat": 4,
 "nbformat_minor": 2
}
