{
 "cells": [
  {
   "cell_type": "code",
   "execution_count": 1,
   "metadata": {
    "collapsed": false
   },
   "outputs": [],
   "source": [
    "a = '<I_NEED_HELP_WITH CODING>:how to find duplicates in list python[python]'"
   ]
  },
  {
   "cell_type": "code",
   "execution_count": 2,
   "metadata": {
    "collapsed": false
   },
   "outputs": [
    {
     "data": {
      "text/plain": [
       "'how to find duplicates in list python[python]'"
      ]
     },
     "execution_count": 2,
     "metadata": {},
     "output_type": "execute_result"
    }
   ],
   "source": [
    "r=a.split(':',1)[1]\n",
    "r"
   ]
  },
  {
   "cell_type": "code",
   "execution_count": 3,
   "metadata": {
    "collapsed": false
   },
   "outputs": [],
   "source": [
    "s=r.split('[')\n",
    "q=s[0]\n",
    "tag=''\n",
    "if len(s)>1:\n",
    "    tag=s[1][:-1]\n",
    "    for i in range(2,len(s)):\n",
    "        tag=tag+';'+s[i][:-1]\n",
    "else:\n",
    "    pass"
   ]
  },
  {
   "cell_type": "code",
   "execution_count": 4,
   "metadata": {
    "collapsed": false
   },
   "outputs": [],
   "source": [
    "http='https://api.stackexchange.com/2.2/search/advanced?order=desc&sort=activity&q='+q+'&tagged='+tag+'&site=stackoverflow'"
   ]
  },
  {
   "cell_type": "code",
   "execution_count": 38,
   "metadata": {
    "collapsed": false,
    "scrolled": true
   },
   "outputs": [],
   "source": [
    "import requests\n",
    "res=requests.get(http)\n",
    "res=res.json()\n",
    "res=res['items'][:5]"
   ]
  },
  {
   "cell_type": "code",
   "execution_count": 40,
   "metadata": {
    "collapsed": false,
    "scrolled": true
   },
   "outputs": [
    {
     "data": {
      "text/plain": [
       "[{u'accepted_answer_id': 42493715,\n",
       "  u'answer_count': 1,\n",
       "  u'creation_date': 1488122890,\n",
       "  u'is_answered': True,\n",
       "  u'last_activity_date': 1488303530,\n",
       "  u'last_edit_date': 1488146176,\n",
       "  u'link': u'http://stackoverflow.com/questions/42470395/how-to-loop-over-hundreds-of-images-in-qulatrics-help-needed-to-implement-code',\n",
       "  u'owner': {u'display_name': u'MGy',\n",
       "   u'link': u'http://stackoverflow.com/users/7625663/mgy',\n",
       "   u'profile_image': u'https://www.gravatar.com/avatar/2fd876f48e01be2de39ad37cdd580b48?s=128&d=identicon&r=PG&f=1',\n",
       "   u'reputation': 3,\n",
       "   u'user_id': 7625663,\n",
       "   u'user_type': u'registered'},\n",
       "  u'question_id': 42470395,\n",
       "  u'score': 0,\n",
       "  u'tags': [u'python', u'loops', u'powershell', u'web-scraping', u'qualtrics'],\n",
       "  u'title': u'How to loop over hundreds of images in Qulatrics - help needed to implement code',\n",
       "  u'view_count': 49},\n",
       " {u'answer_count': 0,\n",
       "  u'closed_date': 1488064821,\n",
       "  u'closed_reason': u'primarily opinion-based',\n",
       "  u'creation_date': 1488060324,\n",
       "  u'is_answered': False,\n",
       "  u'last_activity_date': 1488060324,\n",
       "  u'link': u'http://stackoverflow.com/questions/42462127/python-keyword-classification',\n",
       "  u'owner': {u'display_name': u'BenjaminSpiegel',\n",
       "   u'link': u'http://stackoverflow.com/users/7623214/benjaminspiegel',\n",
       "   u'profile_image': u'https://www.gravatar.com/avatar/081e92011fc77bf2801ffff9e14e48ab?s=128&d=identicon&r=PG&f=1',\n",
       "   u'reputation': 1,\n",
       "   u'user_id': 7623214,\n",
       "   u'user_type': u'registered'},\n",
       "  u'question_id': 42462127,\n",
       "  u'score': -3,\n",
       "  u'tags': [u'python', u'machine-learning'],\n",
       "  u'title': u'Python Keyword Classification',\n",
       "  u'view_count': 24},\n",
       " {u'answer_count': 0,\n",
       "  u'creation_date': 1487365007,\n",
       "  u'is_answered': False,\n",
       "  u'last_activity_date': 1487365007,\n",
       "  u'link': u'http://stackoverflow.com/questions/42307252/python-element-regrouping-based-on-distance-criteria',\n",
       "  u'owner': {u'display_name': u'AsheKetchum',\n",
       "   u'link': u'http://stackoverflow.com/users/7571052/asheketchum',\n",
       "   u'profile_image': u'https://i.stack.imgur.com/3N48C.png?s=128&g=1',\n",
       "   u'reputation': 161,\n",
       "   u'user_id': 7571052,\n",
       "   u'user_type': u'registered'},\n",
       "  u'question_id': 42307252,\n",
       "  u'score': 0,\n",
       "  u'tags': [u'python',\n",
       "   u'algorithm',\n",
       "   u'loops',\n",
       "   u'cluster-analysis',\n",
       "   u'hierarchical-clustering'],\n",
       "  u'title': u'Python element regrouping based on distance/criteria',\n",
       "  u'view_count': 40},\n",
       " {u'answer_count': 3,\n",
       "  u'creation_date': 1487109689,\n",
       "  u'is_answered': True,\n",
       "  u'last_activity_date': 1487186782,\n",
       "  u'last_edit_date': 1487186782,\n",
       "  u'link': u'http://stackoverflow.com/questions/42237072/list-dependencies-in-python',\n",
       "  u'owner': {u'accept_rate': 50,\n",
       "   u'display_name': u'RolfBly',\n",
       "   u'link': u'http://stackoverflow.com/users/1016065/rolfbly',\n",
       "   u'profile_image': u'https://i.stack.imgur.com/3Wv78.jpg?s=128&g=1',\n",
       "   u'reputation': 594,\n",
       "   u'user_id': 1016065,\n",
       "   u'user_type': u'registered'},\n",
       "  u'question_id': 42237072,\n",
       "  u'score': 0,\n",
       "  u'tags': [u'python'],\n",
       "  u'title': u'List dependencies in Python',\n",
       "  u'view_count': 100},\n",
       " {u'accepted_answer_id': 42194795,\n",
       "  u'answer_count': 3,\n",
       "  u'creation_date': 1486943413,\n",
       "  u'is_answered': True,\n",
       "  u'last_activity_date': 1486976236,\n",
       "  u'last_edit_date': 1486976207,\n",
       "  u'link': u'http://stackoverflow.com/questions/42194659/controlling-list-visualisation-in-ipython',\n",
       "  u'owner': {u'accept_rate': 92,\n",
       "   u'display_name': u'Atcold',\n",
       "   u'link': u'http://stackoverflow.com/users/2247039/atcold',\n",
       "   u'profile_image': u'https://www.gravatar.com/avatar/e8a139c3e922ed2aa868d8a1c8062289?s=128&d=identicon&r=PG',\n",
       "   u'reputation': 279,\n",
       "   u'user_id': 2247039,\n",
       "   u'user_type': u'registered'},\n",
       "  u'question_id': 42194659,\n",
       "  u'score': 2,\n",
       "  u'tags': [u'python', u'list', u'python-3.x', u'ipython'],\n",
       "  u'title': u'Controlling list visualisation in IPython',\n",
       "  u'view_count': 57}]"
      ]
     },
     "execution_count": 40,
     "metadata": {},
     "output_type": "execute_result"
    }
   ],
   "source": [
    "res"
   ]
  },
  {
   "cell_type": "code",
   "execution_count": 46,
   "metadata": {
    "collapsed": false
   },
   "outputs": [
    {
     "data": {
      "text/plain": [
       "[(u'http://stackoverflow.com/questions/42470395/how-to-loop-over-hundreds-of-images-in-qulatrics-help-needed-to-implement-code',\n",
       "  u'How to loop over hundreds of images in Qulatrics - help needed to implement code',\n",
       "  1,\n",
       "  1488122890),\n",
       " (u'http://stackoverflow.com/questions/42462127/python-keyword-classification',\n",
       "  u'Python Keyword Classification',\n",
       "  0,\n",
       "  1488060324),\n",
       " (u'http://stackoverflow.com/questions/42307252/python-element-regrouping-based-on-distance-criteria',\n",
       "  u'Python element regrouping based on distance/criteria',\n",
       "  0,\n",
       "  1487365007),\n",
       " (u'http://stackoverflow.com/questions/42237072/list-dependencies-in-python',\n",
       "  u'List dependencies in Python',\n",
       "  3,\n",
       "  1487109689),\n",
       " (u'http://stackoverflow.com/questions/42194659/controlling-list-visualisation-in-ipython',\n",
       "  u'Controlling list visualisation in IPython',\n",
       "  3,\n",
       "  1486943413)]"
      ]
     },
     "execution_count": 46,
     "metadata": {},
     "output_type": "execute_result"
    }
   ],
   "source": [
    "import datetime\n",
    "[(row['link'],row['title'],row['answer_count'],row['creation_date']) for row in res]"
   ]
  },
  {
   "cell_type": "code",
   "execution_count": 51,
   "metadata": {
    "collapsed": false
   },
   "outputs": [
    {
     "data": {
      "text/plain": [
       "1488122890"
      ]
     },
     "execution_count": 51,
     "metadata": {},
     "output_type": "execute_result"
    }
   ],
   "source": [
    "t=res[0]['creation_date']\n",
    "t"
   ]
  },
  {
   "cell_type": "code",
   "execution_count": null,
   "metadata": {
    "collapsed": true
   },
   "outputs": [],
   "source": []
  }
 ],
 "metadata": {
  "kernelspec": {
   "display_name": "Python 2",
   "language": "python",
   "name": "python2"
  },
  "language_info": {
   "codemirror_mode": {
    "name": "ipython",
    "version": 2
   },
   "file_extension": ".py",
   "mimetype": "text/x-python",
   "name": "python",
   "nbconvert_exporter": "python",
   "pygments_lexer": "ipython2",
   "version": "2.7.13"
  }
 },
 "nbformat": 4,
 "nbformat_minor": 2
}
