{
 "cells": [
  {
   "cell_type": "code",
   "execution_count": 1,
   "metadata": {
    "collapsed": true
   },
   "outputs": [],
   "source": [
    "from fabric.api import *\n",
    "\n",
    "env.host_string=\"ec2-54-201-254-197.us-west-2.compute.amazonaws.com\"\n",
    "env.user = \"ubuntu\"\n",
    "env.key_filename = ['/home/zzz/Downloads/Stevens-rzeng3.pem']"
   ]
  },
  {
   "cell_type": "code",
   "execution_count": 2,
   "metadata": {
    "collapsed": false
   },
   "outputs": [
    {
     "name": "stdout",
     "output_type": "stream",
     "text": [
      "[ec2-54-201-254-197.us-west-2.compute.amazonaws.com] run: uname -a\n",
      "[ec2-54-201-254-197.us-west-2.compute.amazonaws.com] out: Linux ip-172-31-18-1 4.4.0-59-generic #80-Ubuntu SMP Fri Jan 6 17:47:47 UTC 2017 x86_64 x86_64 x86_64 GNU/Linux\n",
      "[ec2-54-201-254-197.us-west-2.compute.amazonaws.com] out: \n",
      "\n"
     ]
    },
    {
     "data": {
      "text/plain": [
       "'Linux ip-172-31-18-1 4.4.0-59-generic #80-Ubuntu SMP Fri Jan 6 17:47:47 UTC 2017 x86_64 x86_64 x86_64 GNU/Linux'"
      ]
     },
     "execution_count": 2,
     "metadata": {},
     "output_type": "execute_result"
    }
   ],
   "source": [
    "# run a command on the server to make sure you're connected\n",
    "run('uname -a')"
   ]
  },
  {
   "cell_type": "code",
   "execution_count": 3,
   "metadata": {
    "collapsed": false
   },
   "outputs": [
    {
     "name": "stdout",
     "output_type": "stream",
     "text": [
      "[ec2-54-201-254-197.us-west-2.compute.amazonaws.com] sudo: service myproject stop\n"
     ]
    },
    {
     "data": {
      "text/plain": [
       "''"
      ]
     },
     "execution_count": 3,
     "metadata": {},
     "output_type": "execute_result"
    }
   ],
   "source": [
    "# stop the service for your project so you can edit the code\n",
    "sudo('service myproject stop')"
   ]
  },
  {
   "cell_type": "code",
   "execution_count": 4,
   "metadata": {
    "collapsed": false
   },
   "outputs": [
    {
     "name": "stdout",
     "output_type": "stream",
     "text": [
      "[ec2-54-201-254-197.us-west-2.compute.amazonaws.com] sudo: service nginx stop\n"
     ]
    },
    {
     "data": {
      "text/plain": [
       "''"
      ]
     },
     "execution_count": 4,
     "metadata": {},
     "output_type": "execute_result"
    }
   ],
   "source": [
    "# stop nginx so you can use port 41593 for testing\n",
    "sudo('service nginx stop')"
   ]
  },
  {
   "cell_type": "code",
   "execution_count": 50,
   "metadata": {
    "collapsed": false
   },
   "outputs": [
    {
     "name": "stdout",
     "output_type": "stream",
     "text": [
      "[ec2-54-201-254-197.us-west-2.compute.amazonaws.com] download: /home/zzz/Documents/bia660/RongZeng/Assignment4/ec2-54-201-254-197.us-west-2.compute.amazonaws.com/ec2-54-201-254-197.us-west-2.compute.amazonaws.com/myproject.py <- /home/ubuntu/myproject.py\n"
     ]
    },
    {
     "data": {
      "text/plain": [
       "[u'/home/zzz/Documents/bia660/RongZeng/Assignment4/ec2-54-201-254-197.us-west-2.compute.amazonaws.com/ec2-54-201-254-197.us-west-2.compute.amazonaws.com/myproject.py']"
      ]
     },
     "execution_count": 50,
     "metadata": {},
     "output_type": "execute_result"
    }
   ],
   "source": [
    "# download the current code for your project\n",
    "get('myproject.py')"
   ]
  },
  {
   "cell_type": "code",
   "execution_count": 51,
   "metadata": {
    "collapsed": false
   },
   "outputs": [
    {
     "name": "stdout",
     "output_type": "stream",
     "text": [
      "/home/zzz/Documents/bia660/RongZeng/Assignment4/ec2-54-201-254-197.us-west-2.compute.amazonaws.com\r\n"
     ]
    }
   ],
   "source": [
    "# see what directory your currently in on the local machine\n",
    "!pwd"
   ]
  },
  {
   "cell_type": "code",
   "execution_count": 5,
   "metadata": {
    "collapsed": false
   },
   "outputs": [],
   "source": [
    "import os\n",
    "os.chdir('ec2-54-201-254-197.us-west-2.compute.amazonaws.com')"
   ]
  },
  {
   "cell_type": "code",
   "execution_count": 6,
   "metadata": {
    "collapsed": false
   },
   "outputs": [
    {
     "name": "stdout",
     "output_type": "stream",
     "text": [
      "/home/zzz/Documents/bia660/RongZeng/Assignment4/ec2-54-201-254-197.us-west-2.compute.amazonaws.com\r\n"
     ]
    }
   ],
   "source": [
    "# checking to make sure we're in the right working directory\n",
    "!pwd"
   ]
  },
  {
   "cell_type": "code",
   "execution_count": 54,
   "metadata": {
    "collapsed": false
   },
   "outputs": [
    {
     "name": "stdout",
     "output_type": "stream",
     "text": [
      "myproject.py\r\n"
     ]
    }
   ],
   "source": [
    "ls"
   ]
  },
  {
   "cell_type": "code",
   "execution_count": 7,
   "metadata": {
    "collapsed": false
   },
   "outputs": [
    {
     "name": "stdout",
     "output_type": "stream",
     "text": [
      "[ec2-54-201-254-197.us-west-2.compute.amazonaws.com] put: myproject.py -> /home/ubuntu/myproject.py\n"
     ]
    },
    {
     "data": {
      "text/plain": [
       "[u'/home/ubuntu/myproject.py']"
      ]
     },
     "execution_count": 7,
     "metadata": {},
     "output_type": "execute_result"
    }
   ],
   "source": [
    "# edit the code in a separate window, feel free to use my code\n",
    "put('myproject.py')"
   ]
  },
  {
   "cell_type": "code",
   "execution_count": 56,
   "metadata": {
    "collapsed": false
   },
   "outputs": [
    {
     "name": "stdout",
     "output_type": "stream",
     "text": [
      "[ec2-54-201-254-197.us-west-2.compute.amazonaws.com] run: pip install textblob\n",
      "[ec2-54-201-254-197.us-west-2.compute.amazonaws.com] out: Requirement already satisfied: textblob in ./anaconda2/envs/chatbot/lib/python2.7/site-packages\n",
      "[ec2-54-201-254-197.us-west-2.compute.amazonaws.com] out: Requirement already satisfied: nltk>=3.1 in ./anaconda2/envs/chatbot/lib/python2.7/site-packages (from textblob)\n",
      "[ec2-54-201-254-197.us-west-2.compute.amazonaws.com] out: Requirement already satisfied: six in ./anaconda2/envs/chatbot/lib/python2.7/site-packages (from nltk>=3.1->textblob)\n",
      "[ec2-54-201-254-197.us-west-2.compute.amazonaws.com] out: \n",
      "\n"
     ]
    }
   ],
   "source": [
    "# if you are using my code with TextBlob make sure to install TextBlob to the chatbot env\n",
    "with prefix('source activate chatbot'):\n",
    "    run('pip install textblob')"
   ]
  },
  {
   "cell_type": "code",
   "execution_count": 8,
   "metadata": {
    "collapsed": false
   },
   "outputs": [
    {
     "name": "stdout",
     "output_type": "stream",
     "text": [
      "[ec2-54-201-254-197.us-west-2.compute.amazonaws.com] run: python myproject.py\n",
      "[ec2-54-201-254-197.us-west-2.compute.amazonaws.com] out:  * Running on http://0.0.0.0:41953/ (Press CTRL+C to quit)\n",
      "[ec2-54-201-254-197.us-west-2.compute.amazonaws.com] out: ========POST REQUEST @ /slack=========\n",
      "[ec2-54-201-254-197.us-west-2.compute.amazonaws.com] out: FORM DATA RECEIVED IS:\n",
      "[ec2-54-201-254-197.us-west-2.compute.amazonaws.com] out: ImmutableMultiDict([('user_id', u'U4AR0RMB7'), ('channel_id', u'C4B9ZV3SA'), ('timestamp', u'1488352779.550964'), ('token', u'9PbCyKAa0SIXMAJzaWDRRei2'), ('channel_name', u'bot_chat'), ('team_id', u'T4AKCH42W'), ('team_domain', u'sitbia660'), ('text', u\"What's your favorite color?\"), ('service_id', u'146659565858'), ('user_name', u'rong')])\n",
      "[ec2-54-201-254-197.us-west-2.compute.amazonaws.com] out: \n",
      "[ec2-54-201-254-197.us-west-2.compute.amazonaws.com] out: \n",
      "[ec2-54-201-254-197.us-west-2.compute.amazonaws.com] out: Message:\n",
      "[ec2-54-201-254-197.us-west-2.compute.amazonaws.com] out: rong in bot_chat says: What's your favorite color?\n",
      "[ec2-54-201-254-197.us-west-2.compute.amazonaws.com] out: Bot is responding to favorite color question\n",
      "[ec2-54-201-254-197.us-west-2.compute.amazonaws.com] out: Response text set correctly\n",
      "[ec2-54-201-254-197.us-west-2.compute.amazonaws.com] out: ========REQUEST HANDLING COMPLETE========\n",
      "[ec2-54-201-254-197.us-west-2.compute.amazonaws.com] out: \n",
      "[ec2-54-201-254-197.us-west-2.compute.amazonaws.com] out: \n",
      "[ec2-54-201-254-197.us-west-2.compute.amazonaws.com] out: 52.90.146.42 - - [01/Mar/2017 07:19:40] \"POST /slack HTTP/1.1\" 200 -\n",
      "[ec2-54-201-254-197.us-west-2.compute.amazonaws.com] out: ========POST REQUEST @ /slack=========\n",
      "[ec2-54-201-254-197.us-west-2.compute.amazonaws.com] out: FORM DATA RECEIVED IS:\n",
      "[ec2-54-201-254-197.us-west-2.compute.amazonaws.com] out: ImmutableMultiDict([('user_id', u'USLACKBOT'), ('channel_id', u'C4B9ZV3SA'), ('timestamp', u'1488352780.550972'), ('token', u'9PbCyKAa0SIXMAJzaWDRRei2'), ('bot_name', u'rong_bot'), ('channel_name', u'bot_chat'), ('team_id', u'T4AKCH42W'), ('team_domain', u'sitbia660'), ('text', u'Blue!'), ('service_id', u'146659565858'), ('user_name', u'slackbot'), ('bot_id', u'B4AMD95K6')])\n",
      "[ec2-54-201-254-197.us-west-2.compute.amazonaws.com] out: \n",
      "[ec2-54-201-254-197.us-west-2.compute.amazonaws.com] out: \n",
      "[ec2-54-201-254-197.us-west-2.compute.amazonaws.com] out: Message:\n",
      "[ec2-54-201-254-197.us-west-2.compute.amazonaws.com] out: slackbot in bot_chat says: Blue!\n",
      "[ec2-54-201-254-197.us-west-2.compute.amazonaws.com] out: ========REQUEST HANDLING COMPLETE========\n",
      "[ec2-54-201-254-197.us-west-2.compute.amazonaws.com] out: \n",
      "[ec2-54-201-254-197.us-west-2.compute.amazonaws.com] out: \n",
      "[ec2-54-201-254-197.us-west-2.compute.amazonaws.com] out: 52.90.146.42 - - [01/Mar/2017 07:19:40] \"POST /slack HTTP/1.1\" 200 -\n",
      "[ec2-54-201-254-197.us-west-2.compute.amazonaws.com] out: "
     ]
    },
    {
     "ename": "KeyboardInterrupt",
     "evalue": "",
     "output_type": "error",
     "traceback": [
      "\u001b[0;31m---------------------------------------------------------------------------\u001b[0m",
      "\u001b[0;31mKeyboardInterrupt\u001b[0m                         Traceback (most recent call last)",
      "\u001b[0;32m<ipython-input-8-5c5c7d533ff6>\u001b[0m in \u001b[0;36m<module>\u001b[0;34m()\u001b[0m\n\u001b[1;32m      1\u001b[0m \u001b[0;31m# we need to use our chatbot virtual environment to run the server code\u001b[0m\u001b[0;34m\u001b[0m\u001b[0;34m\u001b[0m\u001b[0m\n\u001b[1;32m      2\u001b[0m \u001b[0;32mwith\u001b[0m \u001b[0mprefix\u001b[0m\u001b[0;34m(\u001b[0m\u001b[0;34m'source activate chatbot'\u001b[0m\u001b[0;34m)\u001b[0m\u001b[0;34m:\u001b[0m\u001b[0;34m\u001b[0m\u001b[0m\n\u001b[0;32m----> 3\u001b[0;31m     \u001b[0mrun\u001b[0m\u001b[0;34m(\u001b[0m\u001b[0;34m'python myproject.py'\u001b[0m\u001b[0;34m)\u001b[0m\u001b[0;34m\u001b[0m\u001b[0m\n\u001b[0m\u001b[1;32m      4\u001b[0m \u001b[0;34m\u001b[0m\u001b[0m\n\u001b[1;32m      5\u001b[0m \u001b[0;31m#if you need to stop the server script, just select this cell and click the stop button at the top\u001b[0m\u001b[0;34m\u001b[0m\u001b[0;34m\u001b[0m\u001b[0m\n",
      "\u001b[0;32m/home/zzz/anaconda2/lib/python2.7/site-packages/fabric/network.pyc\u001b[0m in \u001b[0;36mhost_prompting_wrapper\u001b[0;34m(*args, **kwargs)\u001b[0m\n\u001b[1;32m    681\u001b[0m                                     \" host string for connection: \")\n\u001b[1;32m    682\u001b[0m             \u001b[0menv\u001b[0m\u001b[0;34m.\u001b[0m\u001b[0mupdate\u001b[0m\u001b[0;34m(\u001b[0m\u001b[0mto_dict\u001b[0m\u001b[0;34m(\u001b[0m\u001b[0mhost_string\u001b[0m\u001b[0;34m)\u001b[0m\u001b[0;34m)\u001b[0m\u001b[0;34m\u001b[0m\u001b[0m\n\u001b[0;32m--> 683\u001b[0;31m         \u001b[0;32mreturn\u001b[0m \u001b[0mfunc\u001b[0m\u001b[0;34m(\u001b[0m\u001b[0;34m*\u001b[0m\u001b[0margs\u001b[0m\u001b[0;34m,\u001b[0m \u001b[0;34m**\u001b[0m\u001b[0mkwargs\u001b[0m\u001b[0;34m)\u001b[0m\u001b[0;34m\u001b[0m\u001b[0m\n\u001b[0m\u001b[1;32m    684\u001b[0m     \u001b[0mhost_prompting_wrapper\u001b[0m\u001b[0;34m.\u001b[0m\u001b[0mundecorated\u001b[0m \u001b[0;34m=\u001b[0m \u001b[0mfunc\u001b[0m\u001b[0;34m\u001b[0m\u001b[0m\n\u001b[1;32m    685\u001b[0m     \u001b[0;32mreturn\u001b[0m \u001b[0mhost_prompting_wrapper\u001b[0m\u001b[0;34m\u001b[0m\u001b[0m\n",
      "\u001b[0;32m/home/zzz/anaconda2/lib/python2.7/site-packages/fabric/operations.pyc\u001b[0m in \u001b[0;36mrun\u001b[0;34m(command, shell, pty, combine_stderr, quiet, warn_only, stdout, stderr, timeout, shell_escape, capture_buffer_size)\u001b[0m\n\u001b[1;32m   1088\u001b[0m         \u001b[0mcommand\u001b[0m\u001b[0;34m,\u001b[0m \u001b[0mshell\u001b[0m\u001b[0;34m,\u001b[0m \u001b[0mpty\u001b[0m\u001b[0;34m,\u001b[0m \u001b[0mcombine_stderr\u001b[0m\u001b[0;34m,\u001b[0m \u001b[0mquiet\u001b[0m\u001b[0;34m=\u001b[0m\u001b[0mquiet\u001b[0m\u001b[0;34m,\u001b[0m\u001b[0;34m\u001b[0m\u001b[0m\n\u001b[1;32m   1089\u001b[0m         \u001b[0mwarn_only\u001b[0m\u001b[0;34m=\u001b[0m\u001b[0mwarn_only\u001b[0m\u001b[0;34m,\u001b[0m \u001b[0mstdout\u001b[0m\u001b[0;34m=\u001b[0m\u001b[0mstdout\u001b[0m\u001b[0;34m,\u001b[0m \u001b[0mstderr\u001b[0m\u001b[0;34m=\u001b[0m\u001b[0mstderr\u001b[0m\u001b[0;34m,\u001b[0m \u001b[0mtimeout\u001b[0m\u001b[0;34m=\u001b[0m\u001b[0mtimeout\u001b[0m\u001b[0;34m,\u001b[0m\u001b[0;34m\u001b[0m\u001b[0m\n\u001b[0;32m-> 1090\u001b[0;31m         \u001b[0mshell_escape\u001b[0m\u001b[0;34m=\u001b[0m\u001b[0mshell_escape\u001b[0m\u001b[0;34m,\u001b[0m \u001b[0mcapture_buffer_size\u001b[0m\u001b[0;34m=\u001b[0m\u001b[0mcapture_buffer_size\u001b[0m\u001b[0;34m,\u001b[0m\u001b[0;34m\u001b[0m\u001b[0m\n\u001b[0m\u001b[1;32m   1091\u001b[0m     )\n\u001b[1;32m   1092\u001b[0m \u001b[0;34m\u001b[0m\u001b[0m\n",
      "\u001b[0;32m/home/zzz/anaconda2/lib/python2.7/site-packages/fabric/operations.pyc\u001b[0m in \u001b[0;36m_run_command\u001b[0;34m(command, shell, pty, combine_stderr, sudo, user, quiet, warn_only, stdout, stderr, group, timeout, shell_escape, capture_buffer_size)\u001b[0m\n\u001b[1;32m    931\u001b[0m             \u001b[0mcombine_stderr\u001b[0m\u001b[0;34m=\u001b[0m\u001b[0mcombine_stderr\u001b[0m\u001b[0;34m,\u001b[0m \u001b[0minvoke_shell\u001b[0m\u001b[0;34m=\u001b[0m\u001b[0mFalse\u001b[0m\u001b[0;34m,\u001b[0m \u001b[0mstdout\u001b[0m\u001b[0;34m=\u001b[0m\u001b[0mstdout\u001b[0m\u001b[0;34m,\u001b[0m\u001b[0;34m\u001b[0m\u001b[0m\n\u001b[1;32m    932\u001b[0m             \u001b[0mstderr\u001b[0m\u001b[0;34m=\u001b[0m\u001b[0mstderr\u001b[0m\u001b[0;34m,\u001b[0m \u001b[0mtimeout\u001b[0m\u001b[0;34m=\u001b[0m\u001b[0mtimeout\u001b[0m\u001b[0;34m,\u001b[0m\u001b[0;34m\u001b[0m\u001b[0m\n\u001b[0;32m--> 933\u001b[0;31m             capture_buffer_size=capture_buffer_size)\n\u001b[0m\u001b[1;32m    934\u001b[0m \u001b[0;34m\u001b[0m\u001b[0m\n\u001b[1;32m    935\u001b[0m         \u001b[0;31m# Assemble output string\u001b[0m\u001b[0;34m\u001b[0m\u001b[0;34m\u001b[0m\u001b[0m\n",
      "\u001b[0;32m/home/zzz/anaconda2/lib/python2.7/site-packages/fabric/operations.pyc\u001b[0m in \u001b[0;36m_execute\u001b[0;34m(channel, command, pty, combine_stderr, invoke_shell, stdout, stderr, timeout, capture_buffer_size)\u001b[0m\n\u001b[1;32m    815\u001b[0m                     \u001b[0mworker\u001b[0m\u001b[0;34m.\u001b[0m\u001b[0mraise_if_needed\u001b[0m\u001b[0;34m(\u001b[0m\u001b[0;34m)\u001b[0m\u001b[0;34m\u001b[0m\u001b[0m\n\u001b[1;32m    816\u001b[0m             \u001b[0;32mtry\u001b[0m\u001b[0;34m:\u001b[0m\u001b[0;34m\u001b[0m\u001b[0m\n\u001b[0;32m--> 817\u001b[0;31m                 \u001b[0mtime\u001b[0m\u001b[0;34m.\u001b[0m\u001b[0msleep\u001b[0m\u001b[0;34m(\u001b[0m\u001b[0mssh\u001b[0m\u001b[0;34m.\u001b[0m\u001b[0mio_sleep\u001b[0m\u001b[0;34m)\u001b[0m\u001b[0;34m\u001b[0m\u001b[0m\n\u001b[0m\u001b[1;32m    818\u001b[0m             \u001b[0;32mexcept\u001b[0m \u001b[0mKeyboardInterrupt\u001b[0m\u001b[0;34m:\u001b[0m\u001b[0;34m\u001b[0m\u001b[0m\n\u001b[1;32m    819\u001b[0m                 \u001b[0;32mif\u001b[0m \u001b[0;32mnot\u001b[0m \u001b[0mremote_interrupt\u001b[0m\u001b[0;34m:\u001b[0m\u001b[0;34m\u001b[0m\u001b[0m\n",
      "\u001b[0;31mKeyboardInterrupt\u001b[0m: "
     ]
    }
   ],
   "source": [
    "# we need to use our chatbot virtual environment to run the server code\n",
    "with prefix('source activate chatbot'):\n",
    "    run('python myproject.py')\n",
    "    \n",
    "#if you need to stop the server script, just select this cell and click the stop button at the top"
   ]
  },
  {
   "cell_type": "code",
   "execution_count": 9,
   "metadata": {
    "collapsed": false
   },
   "outputs": [
    {
     "name": "stdout",
     "output_type": "stream",
     "text": [
      "[ec2-54-201-254-197.us-west-2.compute.amazonaws.com] sudo: killall python\n",
      "/bin/bash: line 1: 31270 Terminated              python myproject.py\n",
      "[ec2-54-201-254-197.us-west-2.compute.amazonaws.com] out: \n"
     ]
    },
    {
     "data": {
      "text/plain": [
       "''"
      ]
     },
     "execution_count": 9,
     "metadata": {},
     "output_type": "execute_result"
    }
   ],
   "source": [
    "# after you've stopped the server, make sure it's not still running remotely\n",
    "sudo('killall python')"
   ]
  },
  {
   "cell_type": "code",
   "execution_count": 10,
   "metadata": {
    "collapsed": false
   },
   "outputs": [
    {
     "name": "stdout",
     "output_type": "stream",
     "text": [
      "[ec2-54-201-254-197.us-west-2.compute.amazonaws.com] sudo: service myproject start\n",
      "[ec2-54-201-254-197.us-west-2.compute.amazonaws.com] sudo: service nginx start\n"
     ]
    },
    {
     "data": {
      "text/plain": [
       "''"
      ]
     },
     "execution_count": 10,
     "metadata": {},
     "output_type": "execute_result"
    }
   ],
   "source": [
    "sudo('service myproject start')\n",
    "sudo('service nginx start')"
   ]
  },
  {
   "cell_type": "code",
   "execution_count": null,
   "metadata": {
    "collapsed": true
   },
   "outputs": [],
   "source": []
  }
 ],
 "metadata": {
  "kernelspec": {
   "display_name": "Python 2",
   "language": "python",
   "name": "python2"
  },
  "language_info": {
   "codemirror_mode": {
    "name": "ipython",
    "version": 2
   },
   "file_extension": ".py",
   "mimetype": "text/x-python",
   "name": "python",
   "nbconvert_exporter": "python",
   "pygments_lexer": "ipython2",
   "version": "2.7.13"
  }
 },
 "nbformat": 4,
 "nbformat_minor": 0
}
