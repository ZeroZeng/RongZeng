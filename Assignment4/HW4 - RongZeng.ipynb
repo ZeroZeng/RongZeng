{
 "cells": [
  {
   "cell_type": "code",
   "execution_count": 1,
   "metadata": {
    "collapsed": true
   },
   "outputs": [],
   "source": [
    "from fabric.api import *\n",
    "\n",
    "env.host_string=\"ec2-54-201-254-197.us-west-2.compute.amazonaws.com\"\n",
    "env.user = \"ubuntu\"\n",
    "env.key_filename = ['/home/zzz/Downloads/Stevens-rzeng3.pem']"
   ]
  },
  {
   "cell_type": "code",
   "execution_count": 2,
   "metadata": {
    "collapsed": false
   },
   "outputs": [
    {
     "name": "stdout",
     "output_type": "stream",
     "text": [
      "[ec2-54-201-254-197.us-west-2.compute.amazonaws.com] run: uname -a\n",
      "[ec2-54-201-254-197.us-west-2.compute.amazonaws.com] out: Linux ip-172-31-18-1 4.4.0-59-generic #80-Ubuntu SMP Fri Jan 6 17:47:47 UTC 2017 x86_64 x86_64 x86_64 GNU/Linux\n",
      "[ec2-54-201-254-197.us-west-2.compute.amazonaws.com] out: \n",
      "\n"
     ]
    },
    {
     "data": {
      "text/plain": [
       "'Linux ip-172-31-18-1 4.4.0-59-generic #80-Ubuntu SMP Fri Jan 6 17:47:47 UTC 2017 x86_64 x86_64 x86_64 GNU/Linux'"
      ]
     },
     "execution_count": 2,
     "metadata": {},
     "output_type": "execute_result"
    }
   ],
   "source": [
    "# run a command on the server to make sure you're connected\n",
    "run('uname -a')"
   ]
  },
  {
   "cell_type": "code",
   "execution_count": 3,
   "metadata": {
    "collapsed": false
   },
   "outputs": [
    {
     "name": "stdout",
     "output_type": "stream",
     "text": [
      "[ec2-54-201-254-197.us-west-2.compute.amazonaws.com] sudo: service myproject stop\n"
     ]
    },
    {
     "data": {
      "text/plain": [
       "''"
      ]
     },
     "execution_count": 3,
     "metadata": {},
     "output_type": "execute_result"
    }
   ],
   "source": [
    "# stop the service for your project so you can edit the code\n",
    "sudo('service myproject stop')"
   ]
  },
  {
   "cell_type": "code",
   "execution_count": 4,
   "metadata": {
    "collapsed": false
   },
   "outputs": [
    {
     "name": "stdout",
     "output_type": "stream",
     "text": [
      "[ec2-54-201-254-197.us-west-2.compute.amazonaws.com] sudo: service nginx stop\n"
     ]
    },
    {
     "data": {
      "text/plain": [
       "''"
      ]
     },
     "execution_count": 4,
     "metadata": {},
     "output_type": "execute_result"
    }
   ],
   "source": [
    "# stop nginx so you can use port 41593 for testing\n",
    "sudo('service nginx stop')"
   ]
  },
  {
   "cell_type": "code",
   "execution_count": 34,
   "metadata": {
    "collapsed": false
   },
   "outputs": [
    {
     "name": "stdout",
     "output_type": "stream",
     "text": [
      "[ec2-54-201-254-197.us-west-2.compute.amazonaws.com] download: /home/zzz/Documents/bia660/RongZeng/Assignment4/ec2-54-201-254-197.us-west-2.compute.amazonaws.com/ec2-54-201-254-197.us-west-2.compute.amazonaws.com/ec2-54-201-254-197.us-west-2.compute.amazonaws.com/myproject.py <- /home/ubuntu/myproject.py\n"
     ]
    },
    {
     "data": {
      "text/plain": [
       "[u'/home/zzz/Documents/bia660/RongZeng/Assignment4/ec2-54-201-254-197.us-west-2.compute.amazonaws.com/ec2-54-201-254-197.us-west-2.compute.amazonaws.com/ec2-54-201-254-197.us-west-2.compute.amazonaws.com/myproject.py']"
      ]
     },
     "execution_count": 34,
     "metadata": {},
     "output_type": "execute_result"
    }
   ],
   "source": [
    "# download the current code for your project\n",
    "get('myproject.py')"
   ]
  },
  {
   "cell_type": "code",
   "execution_count": 35,
   "metadata": {
    "collapsed": false
   },
   "outputs": [
    {
     "name": "stdout",
     "output_type": "stream",
     "text": [
      "/home/zzz/Documents/bia660/RongZeng/Assignment4/ec2-54-201-254-197.us-west-2.compute.amazonaws.com\r\n"
     ]
    }
   ],
   "source": [
    "# see what directory your currently in on the local machine\n",
    "!pwd"
   ]
  },
  {
   "cell_type": "code",
   "execution_count": 5,
   "metadata": {
    "collapsed": false
   },
   "outputs": [],
   "source": [
    "import os\n",
    "os.chdir('ec2-54-201-254-197.us-west-2.compute.amazonaws.com')"
   ]
  },
  {
   "cell_type": "code",
   "execution_count": 37,
   "metadata": {
    "collapsed": false
   },
   "outputs": [
    {
     "name": "stdout",
     "output_type": "stream",
     "text": [
      "sh: 0: getcwd() failed: No such file or directory\r\n",
      "\r\n"
     ]
    }
   ],
   "source": [
    "# checking to make sure we're in the right working directory\n",
    "!pwd"
   ]
  },
  {
   "cell_type": "code",
   "execution_count": 7,
   "metadata": {
    "collapsed": false
   },
   "outputs": [
    {
     "name": "stdout",
     "output_type": "stream",
     "text": [
      "myproject.py\r\n"
     ]
    }
   ],
   "source": [
    "ls"
   ]
  },
  {
   "cell_type": "code",
   "execution_count": 33,
   "metadata": {
    "collapsed": false
   },
   "outputs": [
    {
     "name": "stdout",
     "output_type": "stream",
     "text": [
      "[ec2-54-201-254-197.us-west-2.compute.amazonaws.com] put: myproject.py -> /home/ubuntu/myproject.py\n"
     ]
    },
    {
     "data": {
      "text/plain": [
       "[u'/home/ubuntu/myproject.py']"
      ]
     },
     "execution_count": 33,
     "metadata": {},
     "output_type": "execute_result"
    }
   ],
   "source": [
    "# edit the code in a separate window, feel free to use my code\n",
    "put('myproject.py')"
   ]
  },
  {
   "cell_type": "code",
   "execution_count": 56,
   "metadata": {
    "collapsed": false
   },
   "outputs": [
    {
     "name": "stdout",
     "output_type": "stream",
     "text": [
      "[ec2-54-201-254-197.us-west-2.compute.amazonaws.com] run: pip install textblob\n",
      "[ec2-54-201-254-197.us-west-2.compute.amazonaws.com] out: Requirement already satisfied: textblob in ./anaconda2/envs/chatbot/lib/python2.7/site-packages\n",
      "[ec2-54-201-254-197.us-west-2.compute.amazonaws.com] out: Requirement already satisfied: nltk>=3.1 in ./anaconda2/envs/chatbot/lib/python2.7/site-packages (from textblob)\n",
      "[ec2-54-201-254-197.us-west-2.compute.amazonaws.com] out: Requirement already satisfied: six in ./anaconda2/envs/chatbot/lib/python2.7/site-packages (from nltk>=3.1->textblob)\n",
      "[ec2-54-201-254-197.us-west-2.compute.amazonaws.com] out: \n",
      "\n"
     ]
    }
   ],
   "source": [
    "# if you are using my code with TextBlob make sure to install TextBlob to the chatbot env\n",
    "with prefix('source activate chatbot'):\n",
    "    run('pip install textblob')"
   ]
  },
  {
   "cell_type": "code",
   "execution_count": 34,
   "metadata": {
    "collapsed": false,
    "scrolled": true
   },
   "outputs": [
    {
     "name": "stdout",
     "output_type": "stream",
     "text": [
      "[ec2-54-201-254-197.us-west-2.compute.amazonaws.com] run: python myproject.py\n",
      "[ec2-54-201-254-197.us-west-2.compute.amazonaws.com] out:  * Running on http://0.0.0.0:41953/ (Press CTRL+C to quit)\n",
      "[ec2-54-201-254-197.us-west-2.compute.amazonaws.com] out: ========POST REQUEST @ /slack=========\n",
      "[ec2-54-201-254-197.us-west-2.compute.amazonaws.com] out: FORM DATA RECEIVED IS:\n",
      "[ec2-54-201-254-197.us-west-2.compute.amazonaws.com] out: ImmutableMultiDict([('user_id', u'U4AR0RMB7'), ('channel_id', u'C4B9ZV3SA'), ('timestamp', u'1488749224.027549'), ('token', u'KfQi8rP8Qk0EG89RxdLz5Hkq'), ('channel_name', u'bot_chat'), ('team_id', u'T4AKCH42W'), ('team_domain', u'sitbia660'), ('text', u\"&lt;WHAT'S_THE_WEATHER_LIKE_AT&gt;: Shanghai\"), ('service_id', u'149244782433'), ('user_name', u'rong')])\n",
      "[ec2-54-201-254-197.us-west-2.compute.amazonaws.com] out: \n",
      "[ec2-54-201-254-197.us-west-2.compute.amazonaws.com] out: \n",
      "[ec2-54-201-254-197.us-west-2.compute.amazonaws.com] out: Message:\n",
      "[ec2-54-201-254-197.us-west-2.compute.amazonaws.com] out: rong in bot_chat says: &lt;WHAT'S_THE_WEATHER_LIKE_AT&gt;: Shanghai\n",
      "[ec2-54-201-254-197.us-west-2.compute.amazonaws.com] out: Response text set correctly\n",
      "[ec2-54-201-254-197.us-west-2.compute.amazonaws.com] out: ========REQUEST HANDLING COMPLETE========\n",
      "[ec2-54-201-254-197.us-west-2.compute.amazonaws.com] out: \n",
      "[ec2-54-201-254-197.us-west-2.compute.amazonaws.com] out: \n",
      "[ec2-54-201-254-197.us-west-2.compute.amazonaws.com] out: 54.174.33.17 - - [05/Mar/2017 21:27:09] \"POST /slack HTTP/1.1\" 200 -\n",
      "[ec2-54-201-254-197.us-west-2.compute.amazonaws.com] out: ========POST REQUEST @ /slack=========\n",
      "[ec2-54-201-254-197.us-west-2.compute.amazonaws.com] out: FORM DATA RECEIVED IS:\n",
      "[ec2-54-201-254-197.us-west-2.compute.amazonaws.com] out: ImmutableMultiDict([('user_id', u'USLACKBOT'), ('channel_id', u'C4B9ZV3SA'), ('timestamp', u'1488749228.027609'), ('token', u'KfQi8rP8Qk0EG89RxdLz5Hkq'), ('bot_name', u'rong_bot'), ('channel_name', u'bot_chat'), ('team_id', u'T4AKCH42W'), ('team_domain', u'sitbia660'), ('text', u\"&lt;WHAT'S_THE_WEATHER_LIKE_AT&gt;: Shanghai\"), ('service_id', u'149244782433'), ('user_name', u'slackbot'), ('bot_id', u'B4AMD95K6')])\n",
      "[ec2-54-201-254-197.us-west-2.compute.amazonaws.com] out: \n",
      "[ec2-54-201-254-197.us-west-2.compute.amazonaws.com] out: \n",
      "[ec2-54-201-254-197.us-west-2.compute.amazonaws.com] out: Message:\n",
      "[ec2-54-201-254-197.us-west-2.compute.amazonaws.com] out: slackbot in bot_chat says: &lt;WHAT'S_THE_WEATHER_LIKE_AT&gt;: Shanghai\n",
      "[ec2-54-201-254-197.us-west-2.compute.amazonaws.com] out: ========REQUEST HANDLING COMPLETE========\n",
      "[ec2-54-201-254-197.us-west-2.compute.amazonaws.com] out: \n",
      "[ec2-54-201-254-197.us-west-2.compute.amazonaws.com] out: \n",
      "[ec2-54-201-254-197.us-west-2.compute.amazonaws.com] out: 54.165.241.61 - - [05/Mar/2017 21:27:09] \"POST /slack HTTP/1.1\" 200 -\n",
      "[ec2-54-201-254-197.us-west-2.compute.amazonaws.com] out: ========POST REQUEST @ /slack=========\n",
      "[ec2-54-201-254-197.us-west-2.compute.amazonaws.com] out: FORM DATA RECEIVED IS:\n",
      "[ec2-54-201-254-197.us-west-2.compute.amazonaws.com] out: ImmutableMultiDict([('user_id', u'U4AR0RMB7'), ('channel_id', u'C4B9ZV3SA'), ('timestamp', u'1488749255.028053'), ('token', u'KfQi8rP8Qk0EG89RxdLz5Hkq'), ('channel_name', u'bot_chat'), ('team_id', u'T4AKCH42W'), ('team_domain', u'sitbia660'), ('text', u\"&lt;WHAT'S_THE_WEATHER_LIKE_AT&gt;: Haerbing\"), ('service_id', u'149244782433'), ('user_name', u'rong')])\n",
      "[ec2-54-201-254-197.us-west-2.compute.amazonaws.com] out: \n",
      "[ec2-54-201-254-197.us-west-2.compute.amazonaws.com] out: \n",
      "[ec2-54-201-254-197.us-west-2.compute.amazonaws.com] out: Message:\n",
      "[ec2-54-201-254-197.us-west-2.compute.amazonaws.com] out: rong in bot_chat says: &lt;WHAT'S_THE_WEATHER_LIKE_AT&gt;: Haerbing\n",
      "[ec2-54-201-254-197.us-west-2.compute.amazonaws.com] out: Response text set correctly\n",
      "[ec2-54-201-254-197.us-west-2.compute.amazonaws.com] out: ========REQUEST HANDLING COMPLETE========\n",
      "[ec2-54-201-254-197.us-west-2.compute.amazonaws.com] out: \n",
      "[ec2-54-201-254-197.us-west-2.compute.amazonaws.com] out: \n",
      "[ec2-54-201-254-197.us-west-2.compute.amazonaws.com] out: 52.90.121.46 - - [05/Mar/2017 21:27:42] \"POST /slack HTTP/1.1\" 200 -\n",
      "[ec2-54-201-254-197.us-west-2.compute.amazonaws.com] out: ========POST REQUEST @ /slack=========\n",
      "[ec2-54-201-254-197.us-west-2.compute.amazonaws.com] out: FORM DATA RECEIVED IS:\n",
      "[ec2-54-201-254-197.us-west-2.compute.amazonaws.com] out: ImmutableMultiDict([('user_id', u'USLACKBOT'), ('channel_id', u'C4B9ZV3SA'), ('timestamp', u'1488749262.028207'), ('token', u'KfQi8rP8Qk0EG89RxdLz5Hkq'), ('bot_name', u'rong_bot'), ('channel_name', u'bot_chat'), ('team_id', u'T4AKCH42W'), ('team_domain', u'sitbia660'), ('text', u\"&lt;WHAT'S_THE_WEATHER_LIKE_AT&gt;: Haerbing\"), ('service_id', u'149244782433'), ('user_name', u'slackbot'), ('bot_id', u'B4AMD95K6')])\n",
      "[ec2-54-201-254-197.us-west-2.compute.amazonaws.com] out: \n",
      "[ec2-54-201-254-197.us-west-2.compute.amazonaws.com] out: \n",
      "[ec2-54-201-254-197.us-west-2.compute.amazonaws.com] out: Message:\n",
      "[ec2-54-201-254-197.us-west-2.compute.amazonaws.com] out: slackbot in bot_chat says: &lt;WHAT'S_THE_WEATHER_LIKE_AT&gt;: Haerbing\n",
      "[ec2-54-201-254-197.us-west-2.compute.amazonaws.com] out: ========REQUEST HANDLING COMPLETE========\n",
      "[ec2-54-201-254-197.us-west-2.compute.amazonaws.com] out: \n",
      "[ec2-54-201-254-197.us-west-2.compute.amazonaws.com] out: \n",
      "[ec2-54-201-254-197.us-west-2.compute.amazonaws.com] out: 52.90.33.223 - - [05/Mar/2017 21:27:42] \"POST /slack HTTP/1.1\" 200 -\n",
      "[ec2-54-201-254-197.us-west-2.compute.amazonaws.com] out: ========POST REQUEST @ /slack=========\n",
      "[ec2-54-201-254-197.us-west-2.compute.amazonaws.com] out: FORM DATA RECEIVED IS:\n",
      "[ec2-54-201-254-197.us-west-2.compute.amazonaws.com] out: ImmutableMultiDict([('user_id', u'U4AR0RMB7'), ('channel_id', u'C4B9ZV3SA'), ('timestamp', u'1488749290.028681'), ('token', u'KfQi8rP8Qk0EG89RxdLz5Hkq'), ('channel_name', u'bot_chat'), ('team_id', u'T4AKCH42W'), ('team_domain', u'sitbia660'), ('text', u\"&lt;WHAT'S_THE_WEATHER_LIKE_AT&gt;: Moscow\"), ('service_id', u'149244782433'), ('user_name', u'rong')])\n",
      "[ec2-54-201-254-197.us-west-2.compute.amazonaws.com] out: \n",
      "[ec2-54-201-254-197.us-west-2.compute.amazonaws.com] out: \n",
      "[ec2-54-201-254-197.us-west-2.compute.amazonaws.com] out: Message:\n",
      "[ec2-54-201-254-197.us-west-2.compute.amazonaws.com] out: rong in bot_chat says: &lt;WHAT'S_THE_WEATHER_LIKE_AT&gt;: Moscow\n",
      "[ec2-54-201-254-197.us-west-2.compute.amazonaws.com] out: Response text set correctly\n",
      "[ec2-54-201-254-197.us-west-2.compute.amazonaws.com] out: ========REQUEST HANDLING COMPLETE========\n",
      "[ec2-54-201-254-197.us-west-2.compute.amazonaws.com] out: \n",
      "[ec2-54-201-254-197.us-west-2.compute.amazonaws.com] out: \n",
      "[ec2-54-201-254-197.us-west-2.compute.amazonaws.com] out: 52.54.222.230 - - [05/Mar/2017 21:28:17] \"POST /slack HTTP/1.1\" 200 -\n",
      "[ec2-54-201-254-197.us-west-2.compute.amazonaws.com] out: ========POST REQUEST @ /slack=========\n",
      "[ec2-54-201-254-197.us-west-2.compute.amazonaws.com] out: FORM DATA RECEIVED IS:\n",
      "[ec2-54-201-254-197.us-west-2.compute.amazonaws.com] out: ImmutableMultiDict([('user_id', u'USLACKBOT'), ('channel_id', u'C4B9ZV3SA'), ('timestamp', u'1488749297.028779'), ('token', u'KfQi8rP8Qk0EG89RxdLz5Hkq'), ('bot_name', u'rong_bot'), ('channel_name', u'bot_chat'), ('team_id', u'T4AKCH42W'), ('team_domain', u'sitbia660'), ('text', u\"&lt;WHAT'S_THE_WEATHER_LIKE_AT&gt;: Moscow\"), ('service_id', u'149244782433'), ('user_name', u'slackbot'), ('bot_id', u'B4AMD95K6')])\n",
      "[ec2-54-201-254-197.us-west-2.compute.amazonaws.com] out: \n",
      "[ec2-54-201-254-197.us-west-2.compute.amazonaws.com] out: \n",
      "[ec2-54-201-254-197.us-west-2.compute.amazonaws.com] out: Message:\n",
      "[ec2-54-201-254-197.us-west-2.compute.amazonaws.com] out: slackbot in bot_chat says: &lt;WHAT'S_THE_WEATHER_LIKE_AT&gt;: Moscow\n",
      "[ec2-54-201-254-197.us-west-2.compute.amazonaws.com] out: ========REQUEST HANDLING COMPLETE========\n",
      "[ec2-54-201-254-197.us-west-2.compute.amazonaws.com] out: \n",
      "[ec2-54-201-254-197.us-west-2.compute.amazonaws.com] out: \n",
      "[ec2-54-201-254-197.us-west-2.compute.amazonaws.com] out: 52.91.184.228 - - [05/Mar/2017 21:28:17] \"POST /slack HTTP/1.1\" 200 -\n",
      "[ec2-54-201-254-197.us-west-2.compute.amazonaws.com] out: ========POST REQUEST @ /slack=========\n",
      "[ec2-54-201-254-197.us-west-2.compute.amazonaws.com] out: FORM DATA RECEIVED IS:\n",
      "[ec2-54-201-254-197.us-west-2.compute.amazonaws.com] out: ImmutableMultiDict([('user_id', u'U4AR0RMB7'), ('channel_id', u'C4B9ZV3SA'), ('timestamp', u'1488749390.030805'), ('token', u'KfQi8rP8Qk0EG89RxdLz5Hkq'), ('channel_name', u'bot_chat'), ('team_id', u'T4AKCH42W'), ('team_domain', u'sitbia660'), ('text', u\"&lt;WHAT'S_THE_WEATHER_LIKE_AT&gt;: Healy\"), ('service_id', u'149244782433'), ('user_name', u'rong')])\n",
      "[ec2-54-201-254-197.us-west-2.compute.amazonaws.com] out: \n",
      "[ec2-54-201-254-197.us-west-2.compute.amazonaws.com] out: \n",
      "[ec2-54-201-254-197.us-west-2.compute.amazonaws.com] out: Message:\n",
      "[ec2-54-201-254-197.us-west-2.compute.amazonaws.com] out: rong in bot_chat says: &lt;WHAT'S_THE_WEATHER_LIKE_AT&gt;: Healy\n",
      "[ec2-54-201-254-197.us-west-2.compute.amazonaws.com] out: Response text set correctly\n",
      "[ec2-54-201-254-197.us-west-2.compute.amazonaws.com] out: ========REQUEST HANDLING COMPLETE========\n",
      "[ec2-54-201-254-197.us-west-2.compute.amazonaws.com] out: \n",
      "[ec2-54-201-254-197.us-west-2.compute.amazonaws.com] out: \n",
      "[ec2-54-201-254-197.us-west-2.compute.amazonaws.com] out: 52.91.184.228 - - [05/Mar/2017 21:29:55] \"POST /slack HTTP/1.1\" 200 -\n",
      "[ec2-54-201-254-197.us-west-2.compute.amazonaws.com] out: ========POST REQUEST @ /slack=========\n",
      "[ec2-54-201-254-197.us-west-2.compute.amazonaws.com] out: FORM DATA RECEIVED IS:\n",
      "[ec2-54-201-254-197.us-west-2.compute.amazonaws.com] out: ImmutableMultiDict([('user_id', u'USLACKBOT'), ('channel_id', u'C4B9ZV3SA'), ('timestamp', u'1488749394.030867'), ('token', u'KfQi8rP8Qk0EG89RxdLz5Hkq'), ('bot_name', u'rong_bot'), ('channel_name', u'bot_chat'), ('team_id', u'T4AKCH42W'), ('team_domain', u'sitbia660'), ('text', u\"&lt;WHAT'S_THE_WEATHER_LIKE_AT&gt;: Healy\"), ('service_id', u'149244782433'), ('user_name', u'slackbot'), ('bot_id', u'B4AMD95K6')])\n",
      "[ec2-54-201-254-197.us-west-2.compute.amazonaws.com] out: \n",
      "[ec2-54-201-254-197.us-west-2.compute.amazonaws.com] out: \n",
      "[ec2-54-201-254-197.us-west-2.compute.amazonaws.com] out: Message:\n",
      "[ec2-54-201-254-197.us-west-2.compute.amazonaws.com] out: slackbot in bot_chat says: &lt;WHAT'S_THE_WEATHER_LIKE_AT&gt;: Healy\n",
      "[ec2-54-201-254-197.us-west-2.compute.amazonaws.com] out: ========REQUEST HANDLING COMPLETE========\n",
      "[ec2-54-201-254-197.us-west-2.compute.amazonaws.com] out: \n",
      "[ec2-54-201-254-197.us-west-2.compute.amazonaws.com] out: \n",
      "[ec2-54-201-254-197.us-west-2.compute.amazonaws.com] out: 54.174.114.150 - - [05/Mar/2017 21:29:55] \"POST /slack HTTP/1.1\" 200 -\n",
      "[ec2-54-201-254-197.us-west-2.compute.amazonaws.com] out: ========POST REQUEST @ /slack=========\n",
      "[ec2-54-201-254-197.us-west-2.compute.amazonaws.com] out: FORM DATA RECEIVED IS:\n",
      "[ec2-54-201-254-197.us-west-2.compute.amazonaws.com] out: ImmutableMultiDict([('user_id', u'U4AR0RMB7'), ('channel_id', u'C4B9ZV3SA'), ('timestamp', u'1488749548.034173'), ('token', u'KfQi8rP8Qk0EG89RxdLz5Hkq'), ('channel_name', u'bot_chat'), ('team_id', u'T4AKCH42W'), ('team_domain', u'sitbia660'), ('text', u\"&lt;WHAT'S_THE_WEATHER_LIKE_AT&gt;: Alert\"), ('service_id', u'149244782433'), ('user_name', u'rong')])\n",
      "[ec2-54-201-254-197.us-west-2.compute.amazonaws.com] out: \n",
      "[ec2-54-201-254-197.us-west-2.compute.amazonaws.com] out: \n",
      "[ec2-54-201-254-197.us-west-2.compute.amazonaws.com] out: Message:\n",
      "[ec2-54-201-254-197.us-west-2.compute.amazonaws.com] out: rong in bot_chat says: &lt;WHAT'S_THE_WEATHER_LIKE_AT&gt;: Alert\n",
      "[ec2-54-201-254-197.us-west-2.compute.amazonaws.com] out: Response text set correctly\n",
      "[ec2-54-201-254-197.us-west-2.compute.amazonaws.com] out: ========REQUEST HANDLING COMPLETE========\n",
      "[ec2-54-201-254-197.us-west-2.compute.amazonaws.com] out: \n",
      "[ec2-54-201-254-197.us-west-2.compute.amazonaws.com] out: \n",
      "[ec2-54-201-254-197.us-west-2.compute.amazonaws.com] out: 54.165.241.61 - - [05/Mar/2017 21:32:34] \"POST /slack HTTP/1.1\" 200 -\n",
      "[ec2-54-201-254-197.us-west-2.compute.amazonaws.com] out: ========POST REQUEST @ /slack=========\n",
      "[ec2-54-201-254-197.us-west-2.compute.amazonaws.com] out: FORM DATA RECEIVED IS:\n",
      "[ec2-54-201-254-197.us-west-2.compute.amazonaws.com] out: ImmutableMultiDict([('user_id', u'USLACKBOT'), ('channel_id', u'C4B9ZV3SA'), ('timestamp', u'1488749554.034282'), ('token', u'KfQi8rP8Qk0EG89RxdLz5Hkq'), ('bot_name', u'rong_bot'), ('channel_name', u'bot_chat'), ('team_id', u'T4AKCH42W'), ('team_domain', u'sitbia660'), ('text', u\"&lt;WHAT'S_THE_WEATHER_LIKE_AT&gt;: Alert\"), ('service_id', u'149244782433'), ('user_name', u'slackbot'), ('bot_id', u'B4AMD95K6')])\n",
      "[ec2-54-201-254-197.us-west-2.compute.amazonaws.com] out: \n",
      "[ec2-54-201-254-197.us-west-2.compute.amazonaws.com] out: \n",
      "[ec2-54-201-254-197.us-west-2.compute.amazonaws.com] out: Message:\n",
      "[ec2-54-201-254-197.us-west-2.compute.amazonaws.com] out: slackbot in bot_chat says: &lt;WHAT'S_THE_WEATHER_LIKE_AT&gt;: Alert\n",
      "[ec2-54-201-254-197.us-west-2.compute.amazonaws.com] out: ========REQUEST HANDLING COMPLETE========\n",
      "[ec2-54-201-254-197.us-west-2.compute.amazonaws.com] out: \n",
      "[ec2-54-201-254-197.us-west-2.compute.amazonaws.com] out: \n",
      "[ec2-54-201-254-197.us-west-2.compute.amazonaws.com] out: 52.90.146.42 - - [05/Mar/2017 21:32:34] \"POST /slack HTTP/1.1\" 200 -\n",
      "[ec2-54-201-254-197.us-west-2.compute.amazonaws.com] out: ========POST REQUEST @ /slack=========\n",
      "[ec2-54-201-254-197.us-west-2.compute.amazonaws.com] out: FORM DATA RECEIVED IS:\n",
      "[ec2-54-201-254-197.us-west-2.compute.amazonaws.com] out: ImmutableMultiDict([('user_id', u'U4AR0RMB7'), ('channel_id', u'C4B9ZV3SA'), ('timestamp', u'1488749587.035902'), ('token', u'KfQi8rP8Qk0EG89RxdLz5Hkq'), ('channel_name', u'bot_chat'), ('team_id', u'T4AKCH42W'), ('team_domain', u'sitbia660'), ('text', u\"&lt;WHAT'S_THE_WEATHER_LIKE_AT&gt;: Fairbanks\"), ('service_id', u'149244782433'), ('user_name', u'rong')])\n",
      "[ec2-54-201-254-197.us-west-2.compute.amazonaws.com] out: \n",
      "[ec2-54-201-254-197.us-west-2.compute.amazonaws.com] out: \n",
      "[ec2-54-201-254-197.us-west-2.compute.amazonaws.com] out: Message:\n",
      "[ec2-54-201-254-197.us-west-2.compute.amazonaws.com] out: rong in bot_chat says: &lt;WHAT'S_THE_WEATHER_LIKE_AT&gt;: Fairbanks\n",
      "[ec2-54-201-254-197.us-west-2.compute.amazonaws.com] out: Response text set correctly\n",
      "[ec2-54-201-254-197.us-west-2.compute.amazonaws.com] out: ========REQUEST HANDLING COMPLETE========\n",
      "[ec2-54-201-254-197.us-west-2.compute.amazonaws.com] out: \n",
      "[ec2-54-201-254-197.us-west-2.compute.amazonaws.com] out: \n",
      "[ec2-54-201-254-197.us-west-2.compute.amazonaws.com] out: 52.91.184.228 - - [05/Mar/2017 21:33:10] \"POST /slack HTTP/1.1\" 200 -\n",
      "[ec2-54-201-254-197.us-west-2.compute.amazonaws.com] out: ========POST REQUEST @ /slack=========\n",
      "[ec2-54-201-254-197.us-west-2.compute.amazonaws.com] out: FORM DATA RECEIVED IS:\n",
      "[ec2-54-201-254-197.us-west-2.compute.amazonaws.com] out: ImmutableMultiDict([('user_id', u'USLACKBOT'), ('channel_id', u'C4B9ZV3SA'), ('timestamp', u'1488749590.035964'), ('token', u'KfQi8rP8Qk0EG89RxdLz5Hkq'), ('bot_name', u'rong_bot'), ('channel_name', u'bot_chat'), ('team_id', u'T4AKCH42W'), ('team_domain', u'sitbia660'), ('text', u\"&lt;WHAT'S_THE_WEATHER_LIKE_AT&gt;: Fairbanks\"), ('service_id', u'149244782433'), ('user_name', u'slackbot'), ('bot_id', u'B4AMD95K6')])\n",
      "[ec2-54-201-254-197.us-west-2.compute.amazonaws.com] out: \n",
      "[ec2-54-201-254-197.us-west-2.compute.amazonaws.com] out: \n",
      "[ec2-54-201-254-197.us-west-2.compute.amazonaws.com] out: Message:\n",
      "[ec2-54-201-254-197.us-west-2.compute.amazonaws.com] out: slackbot in bot_chat says: &lt;WHAT'S_THE_WEATHER_LIKE_AT&gt;: Fairbanks\n",
      "[ec2-54-201-254-197.us-west-2.compute.amazonaws.com] out: ========REQUEST HANDLING COMPLETE========\n",
      "[ec2-54-201-254-197.us-west-2.compute.amazonaws.com] out: \n",
      "[ec2-54-201-254-197.us-west-2.compute.amazonaws.com] out: \n",
      "[ec2-54-201-254-197.us-west-2.compute.amazonaws.com] out: 52.90.146.42 - - [05/Mar/2017 21:33:10] \"POST /slack HTTP/1.1\" 200 -\n",
      "[ec2-54-201-254-197.us-west-2.compute.amazonaws.com] out: ========POST REQUEST @ /slack=========\n",
      "[ec2-54-201-254-197.us-west-2.compute.amazonaws.com] out: FORM DATA RECEIVED IS:\n",
      "[ec2-54-201-254-197.us-west-2.compute.amazonaws.com] out: ImmutableMultiDict([('user_id', u'U4AR0RMB7'), ('channel_id', u'C4B9ZV3SA'), ('timestamp', u'1488749756.039604'), ('token', u'KfQi8rP8Qk0EG89RxdLz5Hkq'), ('channel_name', u'bot_chat'), ('team_id', u'T4AKCH42W'), ('team_domain', u'sitbia660'), ('text', u'&lt;I_NEED_HELP_WITH_CODING&gt;: how to find duplicates in a list [python] [list]'), ('service_id', u'149244782433'), ('user_name', u'rong')])\n",
      "[ec2-54-201-254-197.us-west-2.compute.amazonaws.com] out: \n",
      "[ec2-54-201-254-197.us-west-2.compute.amazonaws.com] out: \n",
      "[ec2-54-201-254-197.us-west-2.compute.amazonaws.com] out: Message:\n",
      "[ec2-54-201-254-197.us-west-2.compute.amazonaws.com] out: rong in bot_chat says: &lt;I_NEED_HELP_WITH_CODING&gt;: how to find duplicates in a list [python] [list]\n",
      "[ec2-54-201-254-197.us-west-2.compute.amazonaws.com] out: Response text set correctly\n",
      "[ec2-54-201-254-197.us-west-2.compute.amazonaws.com] out: ========REQUEST HANDLING COMPLETE========\n",
      "[ec2-54-201-254-197.us-west-2.compute.amazonaws.com] out: \n",
      "[ec2-54-201-254-197.us-west-2.compute.amazonaws.com] out: \n",
      "[ec2-54-201-254-197.us-west-2.compute.amazonaws.com] out: 52.91.184.228 - - [05/Mar/2017 21:35:57] \"POST /slack HTTP/1.1\" 200 -\n",
      "[ec2-54-201-254-197.us-west-2.compute.amazonaws.com] out: ========POST REQUEST @ /slack=========\n",
      "[ec2-54-201-254-197.us-west-2.compute.amazonaws.com] out: FORM DATA RECEIVED IS:\n",
      "[ec2-54-201-254-197.us-west-2.compute.amazonaws.com] out: ImmutableMultiDict([('user_id', u'USLACKBOT'), ('channel_id', u'C4B9ZV3SA'), ('timestamp', u'1488749757.039617'), ('token', u'KfQi8rP8Qk0EG89RxdLz5Hkq'), ('bot_name', u'rong_bot'), ('channel_name', u'bot_chat'), ('team_id', u'T4AKCH42W'), ('team_domain', u'sitbia660'), ('text', u'&lt;I_NEED_HELP_WITH_CODING&gt;: how to find duplicates in a list [python] [list]\\n1. <http://stackoverflow.com/questions/42602589/how-do-you-find-duplicates-in-a-list-and-exchange-them-to-0|How do you find duplicates in a list and exchange them to 0?> (1 responses), 03-04-2017\\n2. <http://stackoverflow.com/questions/42544131/how-to-get-an-index-in-a-list-without-calling-index-function-or-any-built-in-fun|How to get an index in a list without calling index function or ANY built in functions?> (1 responses), 03-01-2017\\n3. <http://stackoverflow.com/questions/42194659/controlling-list-visualisation-in-ipython|Controlling list visualisation in IPython> (3 responses), 02-12-2017\\n4. <http://stackoverflow.com/questions/13521484/python-list-iteration-and-deletion|Python list iteration and deletion> (4 responses), 11-22-2012\\n5. <http://stackoverflow.com/questions/41949894/find-duplicates-by-tuple-index-in-list-and-randomly-keep-some|find duplicates by tuple index in list and randomly keep some> (2 responses), 01-31-2017'), ('service_id', u'149244782433'), ('user_name', u'slackbot'), ('bot_id', u'B4AMD95K6')])\n",
      "[ec2-54-201-254-197.us-west-2.compute.amazonaws.com] out: \n",
      "[ec2-54-201-254-197.us-west-2.compute.amazonaws.com] out: \n",
      "[ec2-54-201-254-197.us-west-2.compute.amazonaws.com] out: Message:\n",
      "[ec2-54-201-254-197.us-west-2.compute.amazonaws.com] out: slackbot in bot_chat says: &lt;I_NEED_HELP_WITH_CODING&gt;: how to find duplicates in a list [python] [list]\n",
      "[ec2-54-201-254-197.us-west-2.compute.amazonaws.com] out: 1. <http://stackoverflow.com/questions/42602589/how-do-you-find-duplicates-in-a-list-and-exchange-them-to-0|How do you find duplicates in a list and exchange them to 0?> (1 responses), 03-04-2017\n",
      "[ec2-54-201-254-197.us-west-2.compute.amazonaws.com] out: 2. <http://stackoverflow.com/questions/42544131/how-to-get-an-index-in-a-list-without-calling-index-function-or-any-built-in-fun|How to get an index in a list without calling index function or ANY built in functions?> (1 responses), 03-01-2017\n",
      "[ec2-54-201-254-197.us-west-2.compute.amazonaws.com] out: 3. <http://stackoverflow.com/questions/42194659/controlling-list-visualisation-in-ipython|Controlling list visualisation in IPython> (3 responses), 02-12-2017\n",
      "[ec2-54-201-254-197.us-west-2.compute.amazonaws.com] out: 4. <http://stackoverflow.com/questions/13521484/python-list-iteration-and-deletion|Python list iteration and deletion> (4 responses), 11-22-2012\n",
      "[ec2-54-201-254-197.us-west-2.compute.amazonaws.com] out: 5. <http://stackoverflow.com/questions/41949894/find-duplicates-by-tuple-index-in-list-and-randomly-keep-some|find duplicates by tuple index in list and randomly keep some> (2 responses), 01-31-2017\n",
      "[ec2-54-201-254-197.us-west-2.compute.amazonaws.com] out: ========REQUEST HANDLING COMPLETE========\n",
      "[ec2-54-201-254-197.us-west-2.compute.amazonaws.com] out: \n",
      "[ec2-54-201-254-197.us-west-2.compute.amazonaws.com] out: \n",
      "[ec2-54-201-254-197.us-west-2.compute.amazonaws.com] out: 54.209.231.248 - - [05/Mar/2017 21:35:58] \"POST /slack HTTP/1.1\" 200 -\n",
      "[ec2-54-201-254-197.us-west-2.compute.amazonaws.com] out: ========POST REQUEST @ /slack=========\n",
      "[ec2-54-201-254-197.us-west-2.compute.amazonaws.com] out: FORM DATA RECEIVED IS:\n",
      "[ec2-54-201-254-197.us-west-2.compute.amazonaws.com] out: ImmutableMultiDict([('user_id', u'U4AR0RMB7'), ('channel_id', u'C4B9ZV3SA'), ('timestamp', u'1488749772.039881'), ('token', u'KfQi8rP8Qk0EG89RxdLz5Hkq'), ('channel_name', u'bot_chat'), ('team_id', u'T4AKCH42W'), ('team_domain', u'sitbia660'), ('text', u'&lt;I_NEED_HELP_WITH_CODING&gt;: how to find duplicates in a list'), ('service_id', u'149244782433'), ('user_name', u'rong')])\n",
      "[ec2-54-201-254-197.us-west-2.compute.amazonaws.com] out: \n",
      "[ec2-54-201-254-197.us-west-2.compute.amazonaws.com] out: \n",
      "[ec2-54-201-254-197.us-west-2.compute.amazonaws.com] out: Message:\n",
      "[ec2-54-201-254-197.us-west-2.compute.amazonaws.com] out: rong in bot_chat says: &lt;I_NEED_HELP_WITH_CODING&gt;: how to find duplicates in a list\n",
      "[ec2-54-201-254-197.us-west-2.compute.amazonaws.com] out: Response text set correctly\n",
      "[ec2-54-201-254-197.us-west-2.compute.amazonaws.com] out: ========REQUEST HANDLING COMPLETE========\n",
      "[ec2-54-201-254-197.us-west-2.compute.amazonaws.com] out: \n",
      "[ec2-54-201-254-197.us-west-2.compute.amazonaws.com] out: \n",
      "[ec2-54-201-254-197.us-west-2.compute.amazonaws.com] out: 52.90.33.223 - - [05/Mar/2017 21:36:13] \"POST /slack HTTP/1.1\" 200 -\n",
      "[ec2-54-201-254-197.us-west-2.compute.amazonaws.com] out: ========POST REQUEST @ /slack=========\n",
      "[ec2-54-201-254-197.us-west-2.compute.amazonaws.com] out: FORM DATA RECEIVED IS:\n",
      "[ec2-54-201-254-197.us-west-2.compute.amazonaws.com] out: ImmutableMultiDict([('user_id', u'USLACKBOT'), ('channel_id', u'C4B9ZV3SA'), ('timestamp', u'1488749773.039894'), ('token', u'KfQi8rP8Qk0EG89RxdLz5Hkq'), ('bot_name', u'rong_bot'), ('channel_name', u'bot_chat'), ('team_id', u'T4AKCH42W'), ('team_domain', u'sitbia660'), ('text', u'&lt;I_NEED_HELP_WITH_CODING&gt;: how to find duplicates in a list\\n1. <http://stackoverflow.com/questions/42602589/how-do-you-find-duplicates-in-a-list-and-exchange-them-to-0|How do you find duplicates in a list and exchange them to 0?> (1 responses), 03-04-2017\\n2. <http://stackoverflow.com/questions/23402047/how-to-combine-two-querysets-when-defining-choices-in-a-modelmultiplechoicefield|How to combine two querysets when defining choices in a ModelMultipleChoiceField?> (2 responses), 05-01-2014\\n3. <http://stackoverflow.com/questions/42590174/converting-operandt-to-integer|Converting Operand&lt;T&gt; to Integer> (1 responses), 03-03-2017\\n4. <http://stackoverflow.com/questions/42570266/nodejs-needle-process-array-of-async-requests-matching-url-with-statuscode|NodeJS Needle process array of async requests matching url with statusCode> (1 responses), 03-03-2017\\n5. <http://stackoverflow.com/questions/42544131/how-to-get-an-index-in-a-list-without-calling-index-function-or-any-built-in-fun|How to get an index in a list without calling index function or ANY built in functions?> (1 responses), 03-01-2017'), ('service_id', u'149244782433'), ('user_name', u'slackbot'), ('bot_id', u'B4AMD95K6')])\n",
      "[ec2-54-201-254-197.us-west-2.compute.amazonaws.com] out: \n",
      "[ec2-54-201-254-197.us-west-2.compute.amazonaws.com] out: \n",
      "[ec2-54-201-254-197.us-west-2.compute.amazonaws.com] out: Message:\n",
      "[ec2-54-201-254-197.us-west-2.compute.amazonaws.com] out: slackbot in bot_chat says: &lt;I_NEED_HELP_WITH_CODING&gt;: how to find duplicates in a list\n",
      "[ec2-54-201-254-197.us-west-2.compute.amazonaws.com] out: 1. <http://stackoverflow.com/questions/42602589/how-do-you-find-duplicates-in-a-list-and-exchange-them-to-0|How do you find duplicates in a list and exchange them to 0?> (1 responses), 03-04-2017\n",
      "[ec2-54-201-254-197.us-west-2.compute.amazonaws.com] out: 2. <http://stackoverflow.com/questions/23402047/how-to-combine-two-querysets-when-defining-choices-in-a-modelmultiplechoicefield|How to combine two querysets when defining choices in a ModelMultipleChoiceField?> (2 responses), 05-01-2014\n",
      "[ec2-54-201-254-197.us-west-2.compute.amazonaws.com] out: 3. <http://stackoverflow.com/questions/42590174/converting-operandt-to-integer|Converting Operand&lt;T&gt; to Integer> (1 responses), 03-03-2017\n",
      "[ec2-54-201-254-197.us-west-2.compute.amazonaws.com] out: 4. <http://stackoverflow.com/questions/42570266/nodejs-needle-process-array-of-async-requests-matching-url-with-statuscode|NodeJS Needle process array of async requests matching url with statusCode> (1 responses), 03-03-2017\n",
      "[ec2-54-201-254-197.us-west-2.compute.amazonaws.com] out: 5. <http://stackoverflow.com/questions/42544131/how-to-get-an-index-in-a-list-without-calling-index-function-or-any-built-in-fun|How to get an index in a list without calling index function or ANY built in functions?> (1 responses), 03-01-2017\n",
      "[ec2-54-201-254-197.us-west-2.compute.amazonaws.com] out: ========REQUEST HANDLING COMPLETE========\n",
      "[ec2-54-201-254-197.us-west-2.compute.amazonaws.com] out: \n",
      "[ec2-54-201-254-197.us-west-2.compute.amazonaws.com] out: \n",
      "[ec2-54-201-254-197.us-west-2.compute.amazonaws.com] out: 54.209.231.248 - - [05/Mar/2017 21:36:13] \"POST /slack HTTP/1.1\" 200 -\n",
      "[ec2-54-201-254-197.us-west-2.compute.amazonaws.com] out: "
     ]
    },
    {
     "ename": "KeyboardInterrupt",
     "evalue": "",
     "output_type": "error",
     "traceback": [
      "\u001b[0;31m---------------------------------------------------------------------------\u001b[0m",
      "\u001b[0;31mKeyboardInterrupt\u001b[0m                         Traceback (most recent call last)",
      "\u001b[0;32m<ipython-input-34-5c5c7d533ff6>\u001b[0m in \u001b[0;36m<module>\u001b[0;34m()\u001b[0m\n\u001b[1;32m      1\u001b[0m \u001b[0;31m# we need to use our chatbot virtual environment to run the server code\u001b[0m\u001b[0;34m\u001b[0m\u001b[0;34m\u001b[0m\u001b[0m\n\u001b[1;32m      2\u001b[0m \u001b[0;32mwith\u001b[0m \u001b[0mprefix\u001b[0m\u001b[0;34m(\u001b[0m\u001b[0;34m'source activate chatbot'\u001b[0m\u001b[0;34m)\u001b[0m\u001b[0;34m:\u001b[0m\u001b[0;34m\u001b[0m\u001b[0m\n\u001b[0;32m----> 3\u001b[0;31m     \u001b[0mrun\u001b[0m\u001b[0;34m(\u001b[0m\u001b[0;34m'python myproject.py'\u001b[0m\u001b[0;34m)\u001b[0m\u001b[0;34m\u001b[0m\u001b[0m\n\u001b[0m\u001b[1;32m      4\u001b[0m \u001b[0;34m\u001b[0m\u001b[0m\n\u001b[1;32m      5\u001b[0m \u001b[0;31m#if you need to stop the server script, just select this cell and click the stop button at the top\u001b[0m\u001b[0;34m\u001b[0m\u001b[0;34m\u001b[0m\u001b[0m\n",
      "\u001b[0;32m/home/zzz/anaconda2/lib/python2.7/site-packages/fabric/network.pyc\u001b[0m in \u001b[0;36mhost_prompting_wrapper\u001b[0;34m(*args, **kwargs)\u001b[0m\n\u001b[1;32m    681\u001b[0m                                     \" host string for connection: \")\n\u001b[1;32m    682\u001b[0m             \u001b[0menv\u001b[0m\u001b[0;34m.\u001b[0m\u001b[0mupdate\u001b[0m\u001b[0;34m(\u001b[0m\u001b[0mto_dict\u001b[0m\u001b[0;34m(\u001b[0m\u001b[0mhost_string\u001b[0m\u001b[0;34m)\u001b[0m\u001b[0;34m)\u001b[0m\u001b[0;34m\u001b[0m\u001b[0m\n\u001b[0;32m--> 683\u001b[0;31m         \u001b[0;32mreturn\u001b[0m \u001b[0mfunc\u001b[0m\u001b[0;34m(\u001b[0m\u001b[0;34m*\u001b[0m\u001b[0margs\u001b[0m\u001b[0;34m,\u001b[0m \u001b[0;34m**\u001b[0m\u001b[0mkwargs\u001b[0m\u001b[0;34m)\u001b[0m\u001b[0;34m\u001b[0m\u001b[0m\n\u001b[0m\u001b[1;32m    684\u001b[0m     \u001b[0mhost_prompting_wrapper\u001b[0m\u001b[0;34m.\u001b[0m\u001b[0mundecorated\u001b[0m \u001b[0;34m=\u001b[0m \u001b[0mfunc\u001b[0m\u001b[0;34m\u001b[0m\u001b[0m\n\u001b[1;32m    685\u001b[0m     \u001b[0;32mreturn\u001b[0m \u001b[0mhost_prompting_wrapper\u001b[0m\u001b[0;34m\u001b[0m\u001b[0m\n",
      "\u001b[0;32m/home/zzz/anaconda2/lib/python2.7/site-packages/fabric/operations.pyc\u001b[0m in \u001b[0;36mrun\u001b[0;34m(command, shell, pty, combine_stderr, quiet, warn_only, stdout, stderr, timeout, shell_escape, capture_buffer_size)\u001b[0m\n\u001b[1;32m   1088\u001b[0m         \u001b[0mcommand\u001b[0m\u001b[0;34m,\u001b[0m \u001b[0mshell\u001b[0m\u001b[0;34m,\u001b[0m \u001b[0mpty\u001b[0m\u001b[0;34m,\u001b[0m \u001b[0mcombine_stderr\u001b[0m\u001b[0;34m,\u001b[0m \u001b[0mquiet\u001b[0m\u001b[0;34m=\u001b[0m\u001b[0mquiet\u001b[0m\u001b[0;34m,\u001b[0m\u001b[0;34m\u001b[0m\u001b[0m\n\u001b[1;32m   1089\u001b[0m         \u001b[0mwarn_only\u001b[0m\u001b[0;34m=\u001b[0m\u001b[0mwarn_only\u001b[0m\u001b[0;34m,\u001b[0m \u001b[0mstdout\u001b[0m\u001b[0;34m=\u001b[0m\u001b[0mstdout\u001b[0m\u001b[0;34m,\u001b[0m \u001b[0mstderr\u001b[0m\u001b[0;34m=\u001b[0m\u001b[0mstderr\u001b[0m\u001b[0;34m,\u001b[0m \u001b[0mtimeout\u001b[0m\u001b[0;34m=\u001b[0m\u001b[0mtimeout\u001b[0m\u001b[0;34m,\u001b[0m\u001b[0;34m\u001b[0m\u001b[0m\n\u001b[0;32m-> 1090\u001b[0;31m         \u001b[0mshell_escape\u001b[0m\u001b[0;34m=\u001b[0m\u001b[0mshell_escape\u001b[0m\u001b[0;34m,\u001b[0m \u001b[0mcapture_buffer_size\u001b[0m\u001b[0;34m=\u001b[0m\u001b[0mcapture_buffer_size\u001b[0m\u001b[0;34m,\u001b[0m\u001b[0;34m\u001b[0m\u001b[0m\n\u001b[0m\u001b[1;32m   1091\u001b[0m     )\n\u001b[1;32m   1092\u001b[0m \u001b[0;34m\u001b[0m\u001b[0m\n",
      "\u001b[0;32m/home/zzz/anaconda2/lib/python2.7/site-packages/fabric/operations.pyc\u001b[0m in \u001b[0;36m_run_command\u001b[0;34m(command, shell, pty, combine_stderr, sudo, user, quiet, warn_only, stdout, stderr, group, timeout, shell_escape, capture_buffer_size)\u001b[0m\n\u001b[1;32m    931\u001b[0m             \u001b[0mcombine_stderr\u001b[0m\u001b[0;34m=\u001b[0m\u001b[0mcombine_stderr\u001b[0m\u001b[0;34m,\u001b[0m \u001b[0minvoke_shell\u001b[0m\u001b[0;34m=\u001b[0m\u001b[0mFalse\u001b[0m\u001b[0;34m,\u001b[0m \u001b[0mstdout\u001b[0m\u001b[0;34m=\u001b[0m\u001b[0mstdout\u001b[0m\u001b[0;34m,\u001b[0m\u001b[0;34m\u001b[0m\u001b[0m\n\u001b[1;32m    932\u001b[0m             \u001b[0mstderr\u001b[0m\u001b[0;34m=\u001b[0m\u001b[0mstderr\u001b[0m\u001b[0;34m,\u001b[0m \u001b[0mtimeout\u001b[0m\u001b[0;34m=\u001b[0m\u001b[0mtimeout\u001b[0m\u001b[0;34m,\u001b[0m\u001b[0;34m\u001b[0m\u001b[0m\n\u001b[0;32m--> 933\u001b[0;31m             capture_buffer_size=capture_buffer_size)\n\u001b[0m\u001b[1;32m    934\u001b[0m \u001b[0;34m\u001b[0m\u001b[0m\n\u001b[1;32m    935\u001b[0m         \u001b[0;31m# Assemble output string\u001b[0m\u001b[0;34m\u001b[0m\u001b[0;34m\u001b[0m\u001b[0m\n",
      "\u001b[0;32m/home/zzz/anaconda2/lib/python2.7/site-packages/fabric/operations.pyc\u001b[0m in \u001b[0;36m_execute\u001b[0;34m(channel, command, pty, combine_stderr, invoke_shell, stdout, stderr, timeout, capture_buffer_size)\u001b[0m\n\u001b[1;32m    815\u001b[0m                     \u001b[0mworker\u001b[0m\u001b[0;34m.\u001b[0m\u001b[0mraise_if_needed\u001b[0m\u001b[0;34m(\u001b[0m\u001b[0;34m)\u001b[0m\u001b[0;34m\u001b[0m\u001b[0m\n\u001b[1;32m    816\u001b[0m             \u001b[0;32mtry\u001b[0m\u001b[0;34m:\u001b[0m\u001b[0;34m\u001b[0m\u001b[0m\n\u001b[0;32m--> 817\u001b[0;31m                 \u001b[0mtime\u001b[0m\u001b[0;34m.\u001b[0m\u001b[0msleep\u001b[0m\u001b[0;34m(\u001b[0m\u001b[0mssh\u001b[0m\u001b[0;34m.\u001b[0m\u001b[0mio_sleep\u001b[0m\u001b[0;34m)\u001b[0m\u001b[0;34m\u001b[0m\u001b[0m\n\u001b[0m\u001b[1;32m    818\u001b[0m             \u001b[0;32mexcept\u001b[0m \u001b[0mKeyboardInterrupt\u001b[0m\u001b[0;34m:\u001b[0m\u001b[0;34m\u001b[0m\u001b[0m\n\u001b[1;32m    819\u001b[0m                 \u001b[0;32mif\u001b[0m \u001b[0;32mnot\u001b[0m \u001b[0mremote_interrupt\u001b[0m\u001b[0;34m:\u001b[0m\u001b[0;34m\u001b[0m\u001b[0m\n",
      "\u001b[0;31mKeyboardInterrupt\u001b[0m: "
     ]
    }
   ],
   "source": [
    "# we need to use our chatbot virtual environment to run the server code\n",
    "with prefix('source activate chatbot'):\n",
    "    run('python myproject.py')\n",
    "    \n",
    "#if you need to stop the server script, just select this cell and click the stop button at the top"
   ]
  },
  {
   "cell_type": "code",
   "execution_count": 35,
   "metadata": {
    "collapsed": false
   },
   "outputs": [
    {
     "name": "stdout",
     "output_type": "stream",
     "text": [
      "[ec2-54-201-254-197.us-west-2.compute.amazonaws.com] sudo: killall python\n",
      "/bin/bash: line 1: 20079 Terminated              python myproject.py\n",
      "[ec2-54-201-254-197.us-west-2.compute.amazonaws.com] out: \n"
     ]
    },
    {
     "data": {
      "text/plain": [
       "''"
      ]
     },
     "execution_count": 35,
     "metadata": {},
     "output_type": "execute_result"
    }
   ],
   "source": [
    "# after you've stopped the server, make sure it's not still running remotely\n",
    "sudo('killall python')"
   ]
  },
  {
   "cell_type": "code",
   "execution_count": 36,
   "metadata": {
    "collapsed": false
   },
   "outputs": [
    {
     "name": "stdout",
     "output_type": "stream",
     "text": [
      "[ec2-54-201-254-197.us-west-2.compute.amazonaws.com] sudo: service myproject start\n",
      "[ec2-54-201-254-197.us-west-2.compute.amazonaws.com] sudo: service nginx start\n"
     ]
    },
    {
     "data": {
      "text/plain": [
       "''"
      ]
     },
     "execution_count": 36,
     "metadata": {},
     "output_type": "execute_result"
    }
   ],
   "source": [
    "sudo('service myproject start')\n",
    "sudo('service nginx start')"
   ]
  },
  {
   "cell_type": "code",
   "execution_count": null,
   "metadata": {
    "collapsed": true
   },
   "outputs": [],
   "source": []
  }
 ],
 "metadata": {
  "kernelspec": {
   "display_name": "Python 2",
   "language": "python",
   "name": "python2"
  },
  "language_info": {
   "codemirror_mode": {
    "name": "ipython",
    "version": 2
   },
   "file_extension": ".py",
   "mimetype": "text/x-python",
   "name": "python",
   "nbconvert_exporter": "python",
   "pygments_lexer": "ipython2",
   "version": "2.7.13"
  }
 },
 "nbformat": 4,
 "nbformat_minor": 0
}
